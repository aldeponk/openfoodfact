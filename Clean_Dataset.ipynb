{
 "cells": [
  {
   "cell_type": "markdown",
   "metadata": {},
   "source": [
    "<b>Dans ce notebook on nettoie le dataset sur la base des éléments décrits par le notebook Describe_Dataset</b>"
   ]
  },
  {
   "cell_type": "markdown",
   "metadata": {},
   "source": [
    "# Table of contents\n",
    "1. [Load du dataset](#load)\n",
    "2. [Mise à l'écart des données US](#purge_us)\n",
    "3. [Mise à l'écart des features redondantes](#purge_redund)\n",
    "4. [Mise à l'écart des features 100% NaN](#purge_nan)\n",
    "5. [Regroupement des PNNS](#pnns)\n",
    "6. [Traitement des outliers](#outliers) \n",
    "7. [Imputations](#imputations)\n",
    "\n",
    "    7.1 [High density features](#impute_high_density)\n",
    "    \n",
    "    7.2 [Mid density features](#impute_mid_density)\n",
    "   \n"
   ]
  },
  {
   "cell_type": "markdown",
   "metadata": {},
   "source": [
    "<b  style=\"background-color:tomato;font-size:14px;\">1. LOAD DU DATASET<b>\n",
    "    <a id=\"load\"></a>   "
   ]
  },
  {
   "cell_type": "code",
   "execution_count": 1,
   "metadata": {},
   "outputs": [
    {
     "name": "stderr",
     "output_type": "stream",
     "text": [
      "/home/alpro/anaconda3/lib/python3.8/site-packages/IPython/core/interactiveshell.py:3146: DtypeWarning: Columns (0,12,18,19,20,21,22,26,27,28,30,51) have mixed types.Specify dtype option on import or set low_memory=False.\n",
      "  has_raised = await self.run_ast_nodes(code_ast.body, cell_name,\n"
     ]
    }
   ],
   "source": [
    "import numpy as np \n",
    "import pandas as pd\n",
    "import seaborn as sns\n",
    "\n",
    "import matplotlib.pyplot as plt\n",
    "%matplotlib inline\n",
    "\n",
    "try:\n",
    "    del data\n",
    "except:\n",
    "    dummy=1\n",
    "\n",
    "#On ne prend qu'un échantillon du fait des limitations mémoire de la machine\n",
    "data=pd.read_csv('../dataset/en.openfoodfacts.org.products.csv',sep='\\t',nrows=300000)"
   ]
  },
  {
   "cell_type": "markdown",
   "metadata": {},
   "source": [
    "<b  style=\"background-color:tomato;font-size:14px;\">2. MISE A L'ECART DES DONNEES US<b>\n",
    "    <a id=\"load\"></a>  "
   ]
  },
  {
   "cell_type": "code",
   "execution_count": null,
   "metadata": {},
   "outputs": [],
   "source": [
    "us_to_remove = data[data['countries_tags']==\"en:united-states\"]\n",
    "#us_to_remove = data['countries_tags']\n",
    "len(us_to_remove)"
   ]
  },
  {
   "cell_type": "markdown",
   "metadata": {},
   "source": [
    "<b  style=\"background-color:tomato;font-size:14px;\">3. MISE A L'ECART DES FEATURES REDONDANTES<b>\n",
    "    <a id=\"load\"></a>  "
   ]
  },
  {
   "cell_type": "code",
   "execution_count": null,
   "metadata": {},
   "outputs": [],
   "source": [
    "columns_to_remove = []\n",
    "for s in data.columns:\n",
    "    if \"_tags\" in s: \n",
    "        t = s.replace('_tags', '')\n",
    "        u = s.replace('_tags', '_en')\n",
    "        print(\"{:<20} 'no suffix' -> {} ; '_en' suffix -> {}\".format(s,t in data.columns, u in data.columns))\n",
    "        if t in data.columns: columns_to_remove.append(t)\n",
    "        if u in data.columns: columns_to_remove.append(u)\n",
    "data.drop(columns_to_remove, axis = 1, inplace = True)"
   ]
  },
  {
   "cell_type": "markdown",
   "metadata": {},
   "source": [
    "<b  style=\"background-color:tomato;font-size:14px;\">4. MISE A L'ECART DES FEATURES 100% NaN<b>\n",
    "    <a id=\"load\"></a>  "
   ]
  },
  {
   "cell_type": "code",
   "execution_count": 2,
   "metadata": {},
   "outputs": [],
   "source": [
    "percent_of_nans = data.isnull().sum().sort_values(ascending=False) / data.shape[0] * 100"
   ]
  },
  {
   "cell_type": "code",
   "execution_count": null,
   "metadata": {},
   "outputs": [],
   "source": [
    "useless_features = percent_of_nans[percent_of_nans == 100].index\n",
    "print(useless_features)\n",
    "data.drop(useless_features, axis=1, inplace=True)\n",
    "data.shape"
   ]
  },
  {
   "cell_type": "markdown",
   "metadata": {},
   "source": [
    "<b  style=\"background-color:tomato;font-size:14px;\">5. REGROUPEMENT DES PNNS<b>\n",
    "    <a id=\"load\"></a>  "
   ]
  },
  {
   "cell_type": "markdown",
   "metadata": {},
   "source": [
    "<b  style=\"background-color:tomato;font-size:14px;\">6. TRAITEMENT DES OUTLIERS<b>\n",
    "    <a id=\"load\"></a>  "
   ]
  },
  {
   "cell_type": "markdown",
   "metadata": {},
   "source": [
    "<b  style=\"background-color:tomato;font-size:14px;\">7. IMPUTATIONS<b>\n",
    "    <a id=\"load\"></a>  "
   ]
  },
  {
   "cell_type": "markdown",
   "metadata": {},
   "source": [
    "<b  style=\"background-color:tomato;font-size:12px;\">&nbsp;&nbsp;&nbsp;&nbsp;7.1. HIGH DENSITY FEATURES<b>\n",
    "    <a id=\"load\"></a>  "
   ]
  },
  {
   "cell_type": "code",
   "execution_count": 25,
   "metadata": {},
   "outputs": [],
   "source": [
    "from sklearn.impute import KNNImputer\n",
    "pd.options.mode.chained_assignment = None\n",
    "import math\n",
    "\n",
    "def knn_imputation(df_knn,nn):\n",
    "    \n",
    "    imputer = KNNImputer(n_neighbors=nn, weights='uniform', metric='nan_euclidean')\n",
    "    \n",
    "    #print(df_knn)\n",
    "    \n",
    "    df_filled = imputer.fit_transform(df_knn)\n",
    "    #print(type(df_filled))\n",
    "    #print('---------------------')\n",
    "    #print(df_filled[:,1])\n",
    "    #print('---------------------')\n",
    "    return df_filled[:,1]\n",
    "\n",
    "def mean_imputation(df,feature):\n",
    "    print('mean imputation')\n",
    "    print('feature = ' + feature)\n",
    "    print(df.head())\n",
    "    df_feature_mean = df[feature].mean()\n",
    "    df.loc[(df[feature].isnull()),feature]=df_feature_mean\n",
    "\n",
    "    print('---------------------')\n",
    "    print(df[feature])\n",
    "    print('---------------------')\n",
    "    \n",
    "    return df[feature]\n",
    "\n",
    "def imputation(data,features,type):\n",
    "    mean_updates=pd.DataFrame()\n",
    "    mean_dict={\"feature\":[],\"original_mean\":[],\"original_std\":[],\"new_mean\":[],\"new_std\":[]}\n",
    "\n",
    "    for feature in features.index:\n",
    "        print('******* ' + feature)    \n",
    "        subset = data[['categories_tags',feature]]\n",
    "\n",
    "        #valuate mean and standard deviation before knn algorithm\n",
    "        feature_mean = subset[feature].mean()\n",
    "        feature_std = subset[feature].std()\n",
    "        feature_mean_new = feature_mean\n",
    "        feature_std_new = feature_std\n",
    "        print('    - mean = ' + str(feature_mean))\n",
    "        print('    - std = ' + str(feature_std))\n",
    "\n",
    "        subset = subset[subset[\"categories_tags\"].notna()]\n",
    "        #print(subset.head())\n",
    "\n",
    "        i=[]\n",
    "        for k in range(subset.shape[0]):\n",
    "            i.append(0)\n",
    "        #add dummy column as knn only works at least 2 numerical columns subsets     \n",
    "        subset['dummy']=i\n",
    "        cpt=0\n",
    "        for col in subset['categories_tags'].unique():\n",
    "            print('* ' + col)\n",
    "            subset_cat=subset.loc[data['categories_tags'] == col]\n",
    "            #print(str(len(subset_cat)))\n",
    "            #print(subset_cat.head())\n",
    "\n",
    "            #We don't try imputation if category does not have a single valuated row or if category does not have any nan\n",
    "            if not (math.isnan(feature_mean) or subset_cat[feature].isnull().values.any() == 0):\n",
    "                subset_imputation=subset_cat[['dummy',feature]]\n",
    "                if type == \"knn\":\n",
    "                    new_values = knn_imputation(subset_imputation,2)\n",
    "                if type == \"mean\":\n",
    "                    new_values = mean_imputation(subset_imputation,feature)\n",
    "                subset_cat['newvalues']=new_values\n",
    "                #print(subset_cat)\n",
    "\n",
    "                #Identify row index where values has been changed. Update with imputed value in the dataframe.\n",
    "                #print('changed indexes')\n",
    "                #print('---------------')\n",
    "                changed_values=subset_cat.loc[(subset_cat[feature] != subset_cat['newvalues'])]\n",
    "                #print(changed_values)\n",
    "                for d in changed_values.index:\n",
    "                    print('**** '+ str(d) + ' ---> ' + str(changed_values.at[d,'newvalues']))\n",
    "                    data.at[d, feature] = changed_values.at[d,'newvalues']\n",
    "            cpt = cpt +1\n",
    "            if cpt == 5:\n",
    "                break\n",
    "            \n",
    "        subset = data[['categories_tags',feature]]\n",
    "        feature_mean_new = subset[feature].mean()\n",
    "        feature_std_new = subset[feature].std()\n",
    "        print('    - mean = ' + str(feature_mean_new))\n",
    "        print('    - std = ' + str(feature_std_new))\n",
    "\n",
    "        mean_dict[\"feature\"].append(feature)\n",
    "        mean_dict[\"original_mean\"].append(feature_mean)\n",
    "        mean_dict[\"original_std\"].append(feature_std)\n",
    "        mean_dict[\"new_mean\"].append(feature_mean_new)\n",
    "        mean_dict[\"new_std\"].append(feature_std_new)\n",
    "        \n",
    "        break         \n",
    "            \n",
    "\n",
    "\n",
    "    #print(df)\n",
    "    mean_updates=pd.DataFrame(mean_dict)\n",
    "    #print(mean_updates)\n",
    "\n",
    "    plt.figure(figsize=(20,5))\n",
    "    means = sns.lineplot(data=mean_updates)\n",
    "    plt.title(\"Imputation par \" + type + \" - Evolution des moyennes et écart type par catégories imputées\")\n",
    "    plt.ylabel(\"Mean/std\")\n",
    "    try:\n",
    "        del subset\n",
    "        del subset_imputation\n",
    "        del subset_cat\n",
    "        del mean_updates\n",
    "    except:\n",
    "        k=0"
   ]
  },
  {
   "cell_type": "code",
   "execution_count": 26,
   "metadata": {},
   "outputs": [
    {
     "name": "stdout",
     "output_type": "stream",
     "text": [
      "******* saturated-fat_100g\n",
      "    - mean = 4.882342026746706\n",
      "    - std = 8.436184489622317\n",
      "* en:groceries,en:condiments,en:sauces,en:mustards\n",
      "* fr:xsf\n",
      "* fr:pate-d-amende\n",
      "* en:meals,en:prepared-vegetables,en:grated-carrots,en:seasoned-shredded-carrots\n",
      "* en:pies,en:sweet-pies,en:coconut-pies\n",
      "    - mean = 4.882342026746706\n",
      "    - std = 8.436184489622317\n"
     ]
    },
    {
     "data": {
      "image/png": "[encoded data removed]",
      "text/plain": [
       "<Figure size 1440x360 with 1 Axes>"
      ]
     },
     "metadata": {
      "needs_background": "light"
     },
     "output_type": "display_data"
    }
   ],
   "source": [
    "to_be_completed = percent_of_nans[(percent_of_nans < 25) & (percent_of_nans > 0)]\n",
    "to_be_completed_high_density = to_be_completed.filter(like='_100g')\n",
    "imputation(data,to_be_completed_high_density,'knn')"
   ]
  },
  {
   "cell_type": "markdown",
   "metadata": {},
   "source": [
    "<b  style=\"background-color:tomato;font-size:12px;\">&nbsp;&nbsp;&nbsp;&nbsp;7.2. MID DENSITY FEATURES<b>\n",
    "    <a id=\"load\"></a>  "
   ]
  },
  {
   "cell_type": "code",
   "execution_count": 27,
   "metadata": {},
   "outputs": [
    {
     "name": "stdout",
     "output_type": "stream",
     "text": [
      "******* calcium_100g\n",
      "    - mean = 0.10836789631290435\n",
      "    - std = 1.857018187350552\n",
      "* en:groceries,en:condiments,en:sauces,en:mustards\n",
      "* fr:xsf\n",
      "mean imputation\n",
      "feature = calcium_100g\n",
      "   dummy  calcium_100g\n",
      "4      0           NaN\n",
      "---------------------\n",
      "4   NaN\n",
      "Name: calcium_100g, dtype: float64\n",
      "---------------------\n",
      "**** 4 ---> nan\n",
      "* fr:pate-d-amende\n",
      "mean imputation\n",
      "feature = calcium_100g\n",
      "    dummy  calcium_100g\n",
      "12      0           NaN\n",
      "---------------------\n",
      "12   NaN\n",
      "Name: calcium_100g, dtype: float64\n",
      "---------------------\n",
      "**** 12 ---> nan\n",
      "* en:meals,en:prepared-vegetables,en:grated-carrots,en:seasoned-shredded-carrots\n",
      "mean imputation\n",
      "feature = calcium_100g\n",
      "        dummy  calcium_100g\n",
      "13          0           NaN\n",
      "1859        0           NaN\n",
      "259984      0           NaN\n",
      "260670      0           NaN\n",
      "261093      0           NaN\n",
      "---------------------\n",
      "13       NaN\n",
      "1859     NaN\n",
      "259984   NaN\n",
      "260670   NaN\n",
      "261093   NaN\n",
      "261097   NaN\n",
      "261940   NaN\n",
      "264239   NaN\n",
      "265776   NaN\n",
      "266223   NaN\n",
      "267590   NaN\n",
      "268529   NaN\n",
      "269745   NaN\n",
      "269746   NaN\n",
      "269748   NaN\n",
      "270271   NaN\n",
      "270272   NaN\n",
      "270545   NaN\n",
      "270933   NaN\n",
      "271038   NaN\n",
      "272405   NaN\n",
      "273420   NaN\n",
      "273555   NaN\n",
      "273556   NaN\n",
      "273557   NaN\n",
      "274081   NaN\n",
      "274176   NaN\n",
      "282811   NaN\n",
      "283838   NaN\n",
      "285474   NaN\n",
      "285530   NaN\n",
      "287786   NaN\n",
      "289609   NaN\n",
      "292061   NaN\n",
      "293778   NaN\n",
      "293779   NaN\n",
      "295890   NaN\n",
      "295891   NaN\n",
      "295894   NaN\n",
      "295895   NaN\n",
      "295896   NaN\n",
      "296913   NaN\n",
      "297521   NaN\n",
      "Name: calcium_100g, dtype: float64\n",
      "---------------------\n",
      "**** 13 ---> nan\n",
      "**** 1859 ---> nan\n",
      "**** 259984 ---> nan\n",
      "**** 260670 ---> nan\n",
      "**** 261093 ---> nan\n",
      "**** 261097 ---> nan\n",
      "**** 261940 ---> nan\n",
      "**** 264239 ---> nan\n",
      "**** 265776 ---> nan\n",
      "**** 266223 ---> nan\n",
      "**** 267590 ---> nan\n",
      "**** 268529 ---> nan\n",
      "**** 269745 ---> nan\n",
      "**** 269746 ---> nan\n",
      "**** 269748 ---> nan\n",
      "**** 270271 ---> nan\n",
      "**** 270272 ---> nan\n",
      "**** 270545 ---> nan\n",
      "**** 270933 ---> nan\n",
      "**** 271038 ---> nan\n",
      "**** 272405 ---> nan\n",
      "**** 273420 ---> nan\n",
      "**** 273555 ---> nan\n",
      "**** 273556 ---> nan\n",
      "**** 273557 ---> nan\n",
      "**** 274081 ---> nan\n",
      "**** 274176 ---> nan\n",
      "**** 282811 ---> nan\n",
      "**** 283838 ---> nan\n",
      "**** 285474 ---> nan\n",
      "**** 285530 ---> nan\n",
      "**** 287786 ---> nan\n",
      "**** 289609 ---> nan\n",
      "**** 292061 ---> nan\n",
      "**** 293778 ---> nan\n",
      "**** 293779 ---> nan\n",
      "**** 295890 ---> nan\n",
      "**** 295891 ---> nan\n",
      "**** 295894 ---> nan\n",
      "**** 295895 ---> nan\n",
      "**** 295896 ---> nan\n",
      "**** 296913 ---> nan\n",
      "**** 297521 ---> nan\n",
      "* en:pies,en:sweet-pies,en:coconut-pies\n",
      "mean imputation\n",
      "feature = calcium_100g\n",
      "    dummy  calcium_100g\n",
      "21      0           NaN\n",
      "---------------------\n",
      "21   NaN\n",
      "Name: calcium_100g, dtype: float64\n",
      "---------------------\n",
      "**** 21 ---> nan\n",
      "    - mean = 0.10836789631290435\n",
      "    - std = 1.857018187350552\n"
     ]
    },
    {
     "data": {
      "image/png": "[encoded data removed]",
      "text/plain": [
       "<Figure size 1440x360 with 1 Axes>"
      ]
     },
     "metadata": {
      "needs_background": "light"
     },
     "output_type": "display_data"
    }
   ],
   "source": [
    "to_be_completed = percent_of_nans[(percent_of_nans < 50) & (percent_of_nans >= 25 )]\n",
    "to_be_completed_average_density = to_be_completed.filter(like='_100g')\n",
    "imputation(data,to_be_completed_average_density,'mean')"
   ]
  },
  {
   "cell_type": "code",
   "execution_count": null,
   "metadata": {},
   "outputs": [],
   "source": []
  }
 ],
 "metadata": {
  "kernelspec": {
   "display_name": "Python 3",
   "language": "python",
   "name": "python3"
  },
  "language_info": {
   "codemirror_mode": {
    "name": "ipython",
    "version": 3
   },
   "file_extension": ".py",
   "mimetype": "text/x-python",
   "name": "python",
   "nbconvert_exporter": "python",
   "pygments_lexer": "ipython3",
   "version": "3.8.5"
  }
 },
 "nbformat": 4,
 "nbformat_minor": 4
}
