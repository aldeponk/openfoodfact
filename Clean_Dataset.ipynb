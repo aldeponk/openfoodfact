{
 "cells": [
  {
   "cell_type": "markdown",
   "metadata": {},
   "source": [
    "<b>Dans ce notebook on nettoie le dataset sur la base des éléments décrits par le notebook Describe_Dataset</b>"
   ]
  },
  {
   "cell_type": "markdown",
   "metadata": {},
   "source": [
    "# Table of contents\n",
    "1. [Load du dataset](#load)\n",
    "2. [Mise à l'écart des données US](#purge_us)\n",
    "3. [Mise à l'écart des features redondantes](#purge_redund)\n",
    "4. [Mise à l'écart des features 100% NaN](#purge_nan)\n",
    "5. [Regroupement des PNNS](#pnns)\n",
    "6. [Traitement des outliers](#outliers) \n",
    "7. [Imputations](#imputations)\n",
    "\n",
    "    7.1 [High density features](#impute_high_density)\n",
    "    \n",
    "    7.2 [Mid density features](#impute_mid_density)\n",
    "   \n"
   ]
  },
  {
   "cell_type": "markdown",
   "metadata": {},
   "source": [
    "<b  style=\"background-color:tomato;font-size:14px;\">1. LOAD DU DATASET<b>\n",
    "    <a id=\"load\"></a>   "
   ]
  },
  {
   "cell_type": "code",
   "execution_count": 1,
   "metadata": {},
   "outputs": [
    {
     "name": "stderr",
     "output_type": "stream",
     "text": [
      "/home/alpro/anaconda3/lib/python3.8/site-packages/IPython/core/interactiveshell.py:3146: DtypeWarning: Columns (0,12,18,19,20,21,22,26,27,28,30,51) have mixed types.Specify dtype option on import or set low_memory=False.\n",
      "  has_raised = await self.run_ast_nodes(code_ast.body, cell_name,\n"
     ]
    }
   ],
   "source": [
    "import numpy as np \n",
    "import pandas as pd\n",
    "import seaborn as sns\n",
    "\n",
    "import matplotlib.pyplot as plt\n",
    "%matplotlib inline\n",
    "\n",
    "try:\n",
    "    del data\n",
    "except:\n",
    "    dummy=1\n",
    "\n",
    "#On ne prend qu'un échantillon du fait des limitations mémoire de la machine\n",
    "data=pd.read_csv('../dataset/en.openfoodfacts.org.products.csv',sep='\\t',nrows=300000)"
   ]
  },
  {
   "cell_type": "markdown",
   "metadata": {},
   "source": [
    "<b  style=\"background-color:tomato;font-size:14px;\">2. MISE A L'ECART DES DONNEES US<b>\n",
    "    <a id=\"load\"></a>  "
   ]
  },
  {
   "cell_type": "code",
   "execution_count": 2,
   "metadata": {},
   "outputs": [],
   "source": [
    "us_to_remove = data[data['countries_tags']==\"en:united-states\"].index\n",
    "data.drop(us_to_remove, inplace = True)"
   ]
  },
  {
   "cell_type": "markdown",
   "metadata": {},
   "source": [
    "<b  style=\"background-color:tomato;font-size:14px;\">3. MISE A L'ECART DES FEATURES REDONDANTES<b>\n",
    "    <a id=\"load\"></a>  "
   ]
  },
  {
   "cell_type": "code",
   "execution_count": 7,
   "metadata": {},
   "outputs": [
    {
     "name": "stdout",
     "output_type": "stream",
     "text": [
      "packaging_tags       'no suffix' -> True ; '_en' suffix -> False\n",
      "brands_tags          'no suffix' -> True ; '_en' suffix -> False\n",
      "categories_tags      'no suffix' -> True ; '_en' suffix -> True\n",
      "origins_tags         'no suffix' -> True ; '_en' suffix -> True\n",
      "manufacturing_places_tags 'no suffix' -> True ; '_en' suffix -> False\n",
      "labels_tags          'no suffix' -> True ; '_en' suffix -> True\n",
      "emb_codes_tags       'no suffix' -> True ; '_en' suffix -> False\n",
      "cities_tags          'no suffix' -> True ; '_en' suffix -> False\n",
      "countries_tags       'no suffix' -> True ; '_en' suffix -> True\n",
      "traces_tags          'no suffix' -> True ; '_en' suffix -> True\n",
      "additives_tags       'no suffix' -> True ; '_en' suffix -> True\n",
      "ingredients_from_palm_oil_tags 'no suffix' -> True ; '_en' suffix -> False\n",
      "ingredients_that_may_be_from_palm_oil_tags 'no suffix' -> True ; '_en' suffix -> False\n",
      "states_tags          'no suffix' -> True ; '_en' suffix -> True\n"
     ]
    }
   ],
   "source": [
    "columns_to_remove = []\n",
    "for s in data.columns:\n",
    "    if \"_tags\" in s: \n",
    "        t = s.replace('_tags', '')\n",
    "        u = s.replace('_tags', '_en')\n",
    "        print(\"{:<20} 'no suffix' -> {} ; '_en' suffix -> {}\".format(s,t in data.columns, u in data.columns))\n",
    "        if t in data.columns: columns_to_remove.append(t)\n",
    "        if u in data.columns: columns_to_remove.append(u)\n",
    "data.drop(columns_to_remove, axis = 1, inplace = True)"
   ]
  },
  {
   "cell_type": "markdown",
   "metadata": {},
   "source": [
    "<b  style=\"background-color:tomato;font-size:14px;\">4. MISE A L'ECART DES FEATURES 100% NaN<b>\n",
    "    <a id=\"load\"></a>  "
   ]
  },
  {
   "cell_type": "code",
   "execution_count": 8,
   "metadata": {},
   "outputs": [],
   "source": [
    "percent_of_nans = data.isnull().sum().sort_values(ascending=False) / data.shape[0] * 100"
   ]
  },
  {
   "cell_type": "code",
   "execution_count": 9,
   "metadata": {},
   "outputs": [
    {
     "name": "stdout",
     "output_type": "stream",
     "text": [
      "Index(['carnitine_100g', '-dihomo-gamma-linolenic-acid_100g',\n",
      "       '-maltodextrins_100g', '-maltose_100g', '-fructose_100g',\n",
      "       '-glucose_100g', '-nervonic-acid_100g', '-erucic-acid_100g',\n",
      "       '-mead-acid_100g', '-gondoic-acid_100g', '-elaidic-acid_100g',\n",
      "       '-oleic-acid_100g', 'omega-9-fat_100g', '-melissic-acid_100g',\n",
      "       'beta-carotene_100g', '-montanic-acid_100g', '-lignoceric-acid_100g',\n",
      "       '-stearic-acid_100g', '-palmitic-acid_100g', '-myristic-acid_100g',\n",
      "       '-lauric-acid_100g', '-capric-acid_100g', '-caprylic-acid_100g',\n",
      "       '-caproic-acid_100g', 'no_nutriments', 'allergens_en', 'casein_100g',\n",
      "       '-gamma-linolenic-acid_100g', 'chlorophyl_100g', 'choline_100g',\n",
      "       'water-hardness_100g', 'beta-glucan_100g', 'glycemic-index_100g',\n",
      "       'nutrition-score-uk_100g'],\n",
      "      dtype='object')\n"
     ]
    },
    {
     "data": {
      "text/plain": [
       "(85306, 128)"
      ]
     },
     "execution_count": 9,
     "metadata": {},
     "output_type": "execute_result"
    }
   ],
   "source": [
    "useless_features = percent_of_nans[percent_of_nans == 100].index\n",
    "print(useless_features)\n",
    "data.drop(useless_features, axis=1, inplace=True)\n",
    "data.shape"
   ]
  },
  {
   "cell_type": "markdown",
   "metadata": {},
   "source": [
    "<b  style=\"background-color:tomato;font-size:14px;\">5. REGROUPEMENT DES PNNS<b>\n",
    "    <a id=\"load\"></a>  "
   ]
  },
  {
   "cell_type": "markdown",
   "metadata": {},
   "source": [
    "<b  style=\"background-color:tomato;font-size:14px;\">6. TRAITEMENT DES OUTLIERS<b>\n",
    "    <a id=\"load\"></a>  "
   ]
  },
  {
   "cell_type": "markdown",
   "metadata": {},
   "source": [
    "<b  style=\"background-color:tomato;font-size:14px;\">7. IMPUTATIONS<b>\n",
    "    <a id=\"load\"></a>  "
   ]
  },
  {
   "cell_type": "markdown",
   "metadata": {},
   "source": [
    "<b  style=\"background-color:tomato;font-size:12px;\">&nbsp;&nbsp;&nbsp;&nbsp;7.1. HIGH DENSITY FEATURES<b>\n",
    "    <a id=\"load\"></a>  "
   ]
  },
  {
   "cell_type": "code",
   "execution_count": 10,
   "metadata": {},
   "outputs": [],
   "source": [
    "from sklearn.impute import KNNImputer\n",
    "pd.options.mode.chained_assignment = None\n",
    "import math\n",
    "\n",
    "\"\"\"\n",
    "knn imputation function \n",
    "\"\"\"\n",
    "def knn_imputation(df_knn,nn):\n",
    "    \n",
    "    imputer = KNNImputer(n_neighbors=nn, weights='uniform', metric='nan_euclidean')\n",
    "    \n",
    "    #print(df_knn)\n",
    "    \n",
    "    df_filled = imputer.fit_transform(df_knn)\n",
    "    #print(type(df_filled))\n",
    "    #print('---------------------')\n",
    "    #print(df_filled[:,1])\n",
    "    #print('---------------------')\n",
    "    return df_filled[:,1]\n",
    "\n",
    "\"\"\"\n",
    "mean imputation function \n",
    "\"\"\"\n",
    "def mean_imputation(df,feature):\n",
    "    #print('mean imputation')\n",
    "    #print('feature = ' + feature)\n",
    "    #print(df.head())\n",
    "    df_feature_mean = df[feature].mean()\n",
    "    df.loc[(df[feature].isnull()),feature]=df_feature_mean\n",
    "\n",
    "    #print('---------------------')\n",
    "    #print(df[feature])\n",
    "    #print('---------------------')\n",
    "    \n",
    "    return df[feature]\n",
    "\n",
    "\"\"\"\n",
    "add value labels to bar plot function \n",
    "\"\"\"\n",
    "def add_value_labels(ax, spacing=5):\n",
    "\n",
    "    # For each bar: Place a label\n",
    "    for rect in ax.patches:\n",
    "        # Get X and Y placement of label from rect.\n",
    "        y_value = rect.get_height()\n",
    "        x_value = rect.get_x() + rect.get_width() / 2\n",
    "\n",
    "        # Number of points between bar and label. Change to your liking.\n",
    "        space = spacing\n",
    "        # Vertical alignment for positive values\n",
    "        va = 'bottom'\n",
    "\n",
    "        # If value of bar is negative: Place label below bar\n",
    "        if y_value < 0:\n",
    "            # Invert space to place label below\n",
    "            space *= -1\n",
    "            # Vertically align label at top\n",
    "            va = 'top'\n",
    "\n",
    "        # Use Y value as label and format number with one decimal place\n",
    "        label = \"{:.1f}\".format(y_value)\n",
    "\n",
    "        # Create annotation\n",
    "        ax.annotate(\n",
    "            label,                      # Use `label` as label\n",
    "            (x_value, y_value),         # Place label at end of the bar\n",
    "            xytext=(0, space),          # Vertically shift label by `space`\n",
    "            textcoords=\"offset points\", # Interpret `xytext` as offset in points\n",
    "            ha='center',                # Horizontally center label\n",
    "            va=va)                      # Vertically align label differently for positive and negative values.\n",
    "\n",
    "\"\"\"\n",
    "imputation algorithm \n",
    "\"\"\"\n",
    "def imputation(data,features,type):\n",
    "    mean_updates=pd.DataFrame()\n",
    "    mean_dict={\"feature\":[],\"original_mean\":[],\"original_std\":[],\"new_mean\":[],\"new_std\":[]}\n",
    "    \n",
    "    cpt_feature=0\n",
    "    for feature in features.index:\n",
    "        #print('******* ' + feature)    \n",
    "        subset = data[['categories_tags',feature]]\n",
    "\n",
    "        #valuate mean and standard deviation before knn algorithm\n",
    "        feature_mean = subset[feature].mean()\n",
    "        feature_std = subset[feature].std()\n",
    "        feature_mean_new = feature_mean\n",
    "        feature_std_new = feature_std\n",
    "        #print('    - mean = ' + str(feature_mean))\n",
    "        #print('    - std = ' + str(feature_std))\n",
    "\n",
    "        subset = subset[subset[\"categories_tags\"].notna()]\n",
    "        #print(subset.head())\n",
    "\n",
    "        i=[]\n",
    "        for k in range(subset.shape[0]):\n",
    "            i.append(0)\n",
    "        #add dummy column as knn only works at least 2 numerical columns subsets     \n",
    "        subset['dummy']=i\n",
    "        cpt_categ=0\n",
    "        for col in subset['categories_tags'].unique():\n",
    "            #print('* ' + col)\n",
    "            subset_cat=subset.loc[data['categories_tags'] == col]\n",
    "            #print(str(len(subset_cat)))\n",
    "            #print(subset_cat)\n",
    "\n",
    "            #We don't try imputation if category does not have a single valuated row or if category does not have any nan\n",
    "            feature_categ_mean = subset_cat[feature].mean()\n",
    "            if (not math.isnan(feature_categ_mean)) and subset_cat[feature].isnull().values.any():\n",
    "                subset_imputation=subset_cat[['dummy',feature]]\n",
    "                if type == \"knn\":\n",
    "                    new_values = knn_imputation(subset_imputation,3)\n",
    "                if type == \"mean\":\n",
    "                    new_values = mean_imputation(subset_imputation,feature)\n",
    "                subset_cat['newvalues']=new_values\n",
    "                #print(subset_cat)\n",
    "\n",
    "                #Identify row index where values has been changed. Update with imputed value in the dataframe.\n",
    "                #print('changed indexes')\n",
    "                #print('---------------')\n",
    "                changed_values=subset_cat.loc[(subset_cat[feature] != subset_cat['newvalues'])]\n",
    "                #print(changed_values)\n",
    "                for d in changed_values.index:\n",
    "                    #print('**** '+ str(d) + ' ---> ' + str(changed_values.at[d,'newvalues']))\n",
    "                    data.at[d, feature] = changed_values.at[d,'newvalues']\n",
    "            cpt_categ = cpt_categ +1\n",
    "            if cpt_categ == 15:\n",
    "                break\n",
    "            \n",
    "        subset = data[['categories_tags',feature]]\n",
    "        feature_mean_new = subset[feature].mean()\n",
    "        feature_std_new = subset[feature].std()\n",
    "        #print('    - mean = ' + str(feature_mean_new))\n",
    "        #print('    - std = ' + str(feature_std_new))\n",
    "\n",
    "        mean_dict[\"feature\"].append(feature)\n",
    "        mean_dict[\"original_mean\"].append(feature_mean)\n",
    "        mean_dict[\"original_std\"].append(feature_std)\n",
    "        mean_dict[\"new_mean\"].append(feature_mean_new)\n",
    "        mean_dict[\"new_std\"].append(feature_std_new)\n",
    "        \n",
    "        cpt_feature = cpt_feature +1\n",
    "        if cpt_feature == 3:\n",
    "            break            \n",
    "\n",
    "    mean_updates=pd.DataFrame.from_dict(mean_dict)\n",
    "    print(mean_updates)\n",
    "    type=\"knn\"\n",
    "    plt.figure(figsize=(20,5))\n",
    "\n",
    "    fig, axes = plt.subplots(4,3, figsize=(16,8))\n",
    "\n",
    "    plt.suptitle(\"Imputation par \" + type + \" - Evolution des moyennes et écart type par catégories imputées (12 premières features)\")\n",
    "    for i, ax in zip(range(12), axes.flat):\n",
    "        try:\n",
    "            ax1=ax\n",
    "            x=['original','imputation']\n",
    "            ax1.set_xlabel(['original','imputation'])\n",
    "            ax1.set_ylabel('mean', color='red')\n",
    "            ax1.bar(x, [mean_dict['original_mean'][i],mean_dict['new_mean'][i]], color='red')\n",
    "            ax1.tick_params(axis='y', labelcolor=\"red\")\n",
    "            add_value_labels(ax1)\n",
    "\n",
    "            ax2 = ax1.twinx()  \n",
    "\n",
    "            color = 'tab:blue'\n",
    "            ax2.set_ylabel('std', color=\"blue\") \n",
    "            ax2.plot(x, [mean_dict['original_std'][i],mean_dict['new_std'][i]], color='blue')\n",
    "            ax2.tick_params(axis='y', labelcolor='blue')    \n",
    "\n",
    "            ax.set_title(mean_dict['feature'][i])\n",
    "        except:\n",
    "            break\n",
    "            \n",
    "    plt.tight_layout()    \n",
    "\n",
    "    plt.show() \n",
    "\n",
    "    try:\n",
    "        del subset\n",
    "        del subset_imputation\n",
    "        del subset_cat\n",
    "        del mean_updates\n",
    "    except:\n",
    "        k=0"
   ]
  },
  {
   "cell_type": "code",
   "execution_count": 11,
   "metadata": {},
   "outputs": [
    {
     "name": "stdout",
     "output_type": "stream",
     "text": [
      "Empty DataFrame\n",
      "Columns: [feature, original_mean, original_std, new_mean, new_std]\n",
      "Index: []\n"
     ]
    },
    {
     "data": {
      "text/plain": [
       "<Figure size 1440x360 with 0 Axes>"
      ]
     },
     "metadata": {},
     "output_type": "display_data"
    },
    {
     "data": {
      "image/png": "[encoded data removed]",
      "text/plain": [
       "<Figure size 1152x576 with 12 Axes>"
      ]
     },
     "metadata": {
      "needs_background": "light"
     },
     "output_type": "display_data"
    }
   ],
   "source": [
    "to_be_completed = percent_of_nans[(percent_of_nans < 25) & (percent_of_nans > 0)]\n",
    "to_be_completed_high_density = to_be_completed.filter(like='_100g')\n",
    "imputation(data,to_be_completed_high_density,'knn')"
   ]
  },
  {
   "cell_type": "markdown",
   "metadata": {},
   "source": [
    "<b  style=\"background-color:tomato;font-size:12px;\">&nbsp;&nbsp;&nbsp;&nbsp;7.2. MID DENSITY FEATURES<b>\n",
    "    <a id=\"load\"></a>  "
   ]
  },
  {
   "cell_type": "code",
   "execution_count": 12,
   "metadata": {},
   "outputs": [
    {
     "name": "stdout",
     "output_type": "stream",
     "text": [
      "            feature  original_mean  original_std    new_mean     new_std\n",
      "0       sodium_100g       0.918728     13.385021    0.915482   13.346951\n",
      "1         salt_100g       2.296764     33.479693    2.288650   33.384469\n",
      "2  energy-kcal_100g     265.977198    187.915801  265.597861  187.478626\n"
     ]
    },
    {
     "data": {
      "text/plain": [
       "<Figure size 1440x360 with 0 Axes>"
      ]
     },
     "metadata": {},
     "output_type": "display_data"
    },
    {
     "data": {
      "image/png": "[encoded data removed]",
      "text/plain": [
       "<Figure size 1152x576 with 15 Axes>"
      ]
     },
     "metadata": {
      "needs_background": "light"
     },
     "output_type": "display_data"
    }
   ],
   "source": [
    "to_be_completed = percent_of_nans[(percent_of_nans < 50) & (percent_of_nans >= 25 )]\n",
    "to_be_completed_average_density = to_be_completed.filter(like='_100g')\n",
    "imputation(data,to_be_completed_average_density,'mean')"
   ]
  },
  {
   "cell_type": "code",
   "execution_count": 13,
   "metadata": {},
   "outputs": [],
   "source": [
    "def two_scales(ax1, time, data1, data2, c1, c2):\n",
    "    ax2 = ax1.twinx()\n",
    "    ax1.plot(time, data1, color=c1)\n",
    "    ax1.set_xlabel('time (s)')\n",
    "    ax1.set_ylabel('exp')\n",
    "    ax2.plot(time, data2, color=c2)\n",
    "    ax2.set_ylabel('sin')\n",
    "    return ax1, ax2\n",
    "\n",
    "def color_y_axis(ax, color):\n",
    "    \"\"\"Color your axes.\"\"\"\n",
    "    for t in ax.get_yticklabels():\n",
    "        t.set_color(color)"
   ]
  },
  {
   "cell_type": "code",
   "execution_count": null,
   "metadata": {},
   "outputs": [],
   "source": [
    "def add_value_labels(ax, spacing=5):\n",
    "\n",
    "    # For each bar: Place a label\n",
    "    for rect in ax.patches:\n",
    "        # Get X and Y placement of label from rect.\n",
    "        y_value = rect.get_height()\n",
    "        x_value = rect.get_x() + rect.get_width() / 2\n",
    "\n",
    "        # Number of points between bar and label. Change to your liking.\n",
    "        space = spacing\n",
    "        # Vertical alignment for positive values\n",
    "        va = 'bottom'\n",
    "\n",
    "        # If value of bar is negative: Place label below bar\n",
    "        if y_value < 0:\n",
    "            # Invert space to place label below\n",
    "            space *= -1\n",
    "            # Vertically align label at top\n",
    "            va = 'top'\n",
    "\n",
    "        # Use Y value as label and format number with one decimal place\n",
    "        label = \"{:.1f}\".format(y_value)\n",
    "\n",
    "        # Create annotation\n",
    "        ax.annotate(\n",
    "            label,                      # Use `label` as label\n",
    "            (x_value, y_value),         # Place label at end of the bar\n",
    "            xytext=(0, space),          # Vertically shift label by `space`\n",
    "            textcoords=\"offset points\", # Interpret `xytext` as offset in points\n",
    "            ha='center',                # Horizontally center label\n",
    "            va=va)                      # Vertically align label differently for\n",
    "                                        # positive and negative values.\n"
   ]
  },
  {
   "cell_type": "code",
   "execution_count": null,
   "metadata": {},
   "outputs": [],
   "source": [
    "mean_dict = {'feature': ['saturated-fat_100g', 'sugars_100g', 'sodium_100g'], \n",
    "               'original_mean': [4.879271548407266, 14.598996855139022, 0.9048227394409329], \n",
    "               'original_std': [8.431585286234403, 20.58031162590478, 11.618527866948243], \n",
    "               'new_mean': [3.879271548407266, 12.598996855139022, 0.4048227394409329], \n",
    "               'new_std': [2.431585286234403, 10.58031162590478, 6.618527866948243]}\n",
    "mean_updates=pd.DataFrame.from_dict(mean_dict)\n",
    "#print(mean_updates)\n",
    "type=\"knn\"\n",
    "#plt.figure(figsize=(20,5))\n",
    "\n",
    "#fig, axes = plt.subplots(3, 1, figsize=(16,8))\n",
    "#axes = np.array(axes)\n",
    "#fig, (ax1, ax2) = plt.subplots(3, 2, figsize=(16,8))\n",
    "fig, axes = plt.subplots(4,3, figsize=(16,8))\n",
    "\n",
    "plt.suptitle(\"Imputation par \" + type + \" - Evolution des moyennes et écart type par catégories imputées\")\n",
    "for i, ax in zip(range(3), axes.flat):\n",
    "#for i in range(3):\n",
    "    #ax1, ax1a = two_scales(ax1, t, s1, s2, 'r', 'b')\n",
    "    #ax2, ax2a = two_scales(ax2, t, s1, s2, 'gold', 'limegreen')\n",
    "    ax1=ax\n",
    "    x=['original','imputation']\n",
    "    ax1.set_xlabel(['original','imputation'])\n",
    "    ax1.set_ylabel('mean', color='blue')\n",
    "    ax1.bar(x, [mean_dict['original_mean'][i],mean_dict['new_mean'][i]], color='blue')\n",
    "    ax1.tick_params(axis='y', labelcolor=\"blue\")\n",
    "\n",
    "    ax2 = ax1.twinx()  # instantiate a second axes that shares the same x-axis\n",
    "\n",
    "    color = 'tab:blue'\n",
    "    ax2.set_ylabel('std', color=\"red\")  # we already handled the x-label with ax1\n",
    "    ax2.plot(x, [mean_dict['original_std'][i],mean_dict['new_std'][i]], color='red')\n",
    "    ax2.tick_params(axis='y', labelcolor='red')    \n",
    "\n",
    "    add_value_labels(ax1)\n",
    "    \n",
    "    #sns.lineplot(ax=ax, x=['original','imputation'], y=[mean_dict['original_mean'][i],mean_dict['new_mean'][i]],color='red',label=\"mean\")\n",
    "    #sns.lineplot(ax=ax2, x=['original','imputation'], y=[mean_dict['original_std'][i],mean_dict['new_std'][i]],color='green',label=\"std\")\n",
    "    #color_y_axis(ax,'red')\n",
    "    \n",
    "    ax.set_title(mean_dict['feature'][i])\n",
    "    #ax.legend(loc=\"upper right\")\n",
    "    #color_y_axis(ax1, 'r')\n",
    "    #color_y_axis(ax1a, 'b')\n",
    "    #color_y_axis(ax2, 'gold')\n",
    "    #color_y_axis(ax2a, 'limegreen')\n",
    "\n",
    "plt.tight_layout()    \n",
    "    \n",
    "plt.show()\n",
    "\n"
   ]
  },
  {
   "cell_type": "code",
   "execution_count": null,
   "metadata": {},
   "outputs": [],
   "source": []
  },
  {
   "cell_type": "code",
   "execution_count": null,
   "metadata": {},
   "outputs": [],
   "source": []
  }
 ],
 "metadata": {
  "kernelspec": {
   "display_name": "Python 3",
   "language": "python",
   "name": "python3"
  },
  "language_info": {
   "codemirror_mode": {
    "name": "ipython",
    "version": 3
   },
   "file_extension": ".py",
   "mimetype": "text/x-python",
   "name": "python",
   "nbconvert_exporter": "python",
   "pygments_lexer": "ipython3",
   "version": "3.8.5"
  }
 },
 "nbformat": 4,
 "nbformat_minor": 4
}
