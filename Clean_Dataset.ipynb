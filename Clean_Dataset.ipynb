{
 "cells": [
  {
   "cell_type": "markdown",
   "metadata": {},
   "source": [
    "<b>Dans ce notebook on nettoie le dataset sur la base des éléments décrits par le notebook Describe_Dataset</b>"
   ]
  },
  {
   "cell_type": "markdown",
   "metadata": {},
   "source": [
    "# Table of contents\n",
    "1. [Load du dataset](#load)\n",
    "2. [Mise à l'écart des données US](#purge_us)\n",
    "3. [Mise à l'écart des features redondantes](#purge_redund)\n",
    "4. [Mise à l'écart des features 100% NaN](#purge_nan)\n",
    "5. [Regroupement des PNNS](#pnns)\n",
    "6. [Traitement des outliers](#outliers) \n",
    "7. [Imputations](#imputations)\n",
    "\n",
    "    7.1 [High density features](#impute_high_density)\n",
    "    \n",
    "    7.2 [Mid density features](#impute_mid_density)\n",
    "   \n"
   ]
  },
  {
   "cell_type": "markdown",
   "metadata": {},
   "source": [
    "<b  style=\"background-color:tomato;font-size:14px;\">1. LOAD DU DATASET<b>\n",
    "    <a id=\"load\"></a>   "
   ]
  },
  {
   "cell_type": "code",
   "execution_count": 1,
   "metadata": {},
   "outputs": [
    {
     "name": "stderr",
     "output_type": "stream",
     "text": [
      "/home/alpro/anaconda3/lib/python3.8/site-packages/IPython/core/interactiveshell.py:3146: DtypeWarning: Columns (0,12,18,19,20,21,22,26,27,28,30,51) have mixed types.Specify dtype option on import or set low_memory=False.\n",
      "  has_raised = await self.run_ast_nodes(code_ast.body, cell_name,\n"
     ]
    }
   ],
   "source": [
    "import numpy as np \n",
    "import pandas as pd\n",
    "import seaborn as sns\n",
    "\n",
    "import matplotlib.pyplot as plt\n",
    "%matplotlib inline\n",
    "\n",
    "try:\n",
    "    del data\n",
    "except:\n",
    "    dummy=1\n",
    "\n",
    "#On ne prend qu'un échantillon du fait des limitations mémoire de la machine\n",
    "data=pd.read_csv('../dataset/en.openfoodfacts.org.products.csv',sep='\\t',nrows=300000)"
   ]
  },
  {
   "cell_type": "markdown",
   "metadata": {},
   "source": [
    "<b  style=\"background-color:tomato;font-size:14px;\">2. MISE A L'ECART DES DONNEES US<b>\n",
    "    <a id=\"load\"></a>  "
   ]
  },
  {
   "cell_type": "code",
   "execution_count": null,
   "metadata": {},
   "outputs": [],
   "source": [
    "us_to_remove = data[data['countries_tags']==\"en:united-states\"]\n",
    "#us_to_remove = data['countries_tags']\n",
    "len(us_to_remove)"
   ]
  },
  {
   "cell_type": "markdown",
   "metadata": {},
   "source": [
    "<b  style=\"background-color:tomato;font-size:14px;\">3. MISE A L'ECART DES FEATURES REDONDANTES<b>\n",
    "    <a id=\"load\"></a>  "
   ]
  },
  {
   "cell_type": "code",
   "execution_count": null,
   "metadata": {},
   "outputs": [],
   "source": [
    "columns_to_remove = []\n",
    "for s in data.columns:\n",
    "    if \"_tags\" in s: \n",
    "        t = s.replace('_tags', '')\n",
    "        u = s.replace('_tags', '_en')\n",
    "        print(\"{:<20} 'no suffix' -> {} ; '_en' suffix -> {}\".format(s,t in data.columns, u in data.columns))\n",
    "        if t in data.columns: columns_to_remove.append(t)\n",
    "        if u in data.columns: columns_to_remove.append(u)\n",
    "data.drop(columns_to_remove, axis = 1, inplace = True)"
   ]
  },
  {
   "cell_type": "markdown",
   "metadata": {},
   "source": [
    "<b  style=\"background-color:tomato;font-size:14px;\">4. MISE A L'ECART DES FEATURES 100% NaN<b>\n",
    "    <a id=\"load\"></a>  "
   ]
  },
  {
   "cell_type": "code",
   "execution_count": 2,
   "metadata": {},
   "outputs": [],
   "source": [
    "percent_of_nans = data.isnull().sum().sort_values(ascending=False) / data.shape[0] * 100"
   ]
  },
  {
   "cell_type": "code",
   "execution_count": null,
   "metadata": {},
   "outputs": [],
   "source": [
    "useless_features = percent_of_nans[percent_of_nans == 100].index\n",
    "print(useless_features)\n",
    "data.drop(useless_features, axis=1, inplace=True)\n",
    "data.shape"
   ]
  },
  {
   "cell_type": "markdown",
   "metadata": {},
   "source": [
    "<b  style=\"background-color:tomato;font-size:14px;\">5. REGROUPEMENT DES PNNS<b>\n",
    "    <a id=\"load\"></a>  "
   ]
  },
  {
   "cell_type": "markdown",
   "metadata": {},
   "source": [
    "<b  style=\"background-color:tomato;font-size:14px;\">6. TRAITEMENT DES OUTLIERS<b>\n",
    "    <a id=\"load\"></a>  "
   ]
  },
  {
   "cell_type": "markdown",
   "metadata": {},
   "source": [
    "<b  style=\"background-color:tomato;font-size:14px;\">7. IMPUTATIONS<b>\n",
    "    <a id=\"load\"></a>  "
   ]
  },
  {
   "cell_type": "markdown",
   "metadata": {},
   "source": [
    "<b  style=\"background-color:tomato;font-size:12px;\">&nbsp;&nbsp;&nbsp;&nbsp;7.1. HIGH DENSITY FEATURES<b>\n",
    "    <a id=\"load\"></a>  "
   ]
  },
  {
   "cell_type": "code",
   "execution_count": 5,
   "metadata": {},
   "outputs": [],
   "source": [
    "from sklearn.impute import KNNImputer\n",
    "pd.options.mode.chained_assignment = None\n",
    "import math\n",
    "\n",
    "def knn_imputation(df_knn,nn):\n",
    "    \n",
    "    imputer = KNNImputer(n_neighbors=nn, weights='uniform', metric='nan_euclidean')\n",
    "    \n",
    "    print(df_knn)\n",
    "    \n",
    "    df_filled = imputer.fit_transform(df_knn)\n",
    "    print(type(df_filled))\n",
    "    print('---------------------')\n",
    "    print(df_filled[:,1])\n",
    "    print('---------------------')\n",
    "    return df_filled[:,1]\n",
    "\n",
    "def mean_imputation(df,feature):\n",
    "    print('mean imputation')\n",
    "    print('feature = ' + feature)\n",
    "    print(df.head())\n",
    "    df_feature_mean = df[feature].mean()\n",
    "    df.loc[(df[feature].isnull()),feature]=df_feature_mean\n",
    "\n",
    "    print('---------------------')\n",
    "    print(df[feature])\n",
    "    print('---------------------')\n",
    "    \n",
    "    return df[feature]\n",
    "\n",
    "def imputation(data,features,type):\n",
    "    mean_updates=pd.DataFrame()\n",
    "    mean_dict={\"feature\":[],\"original_mean\":[],\"original_std\":[],\"new_mean\":[],\"new_std\":[]}\n",
    "\n",
    "    for feature in features.index:\n",
    "        print('******* ' + feature)    \n",
    "        subset = data[['categories_tags',feature]]\n",
    "\n",
    "        #valuate mean and standard deviation before knn algorithm\n",
    "        feature_mean = subset[feature].mean()\n",
    "        feature_std = subset[feature].std()\n",
    "        feature_mean_new = feature_mean\n",
    "        feature_std_new = feature_std\n",
    "        print('    - mean = ' + str(feature_mean))\n",
    "        print('    - std = ' + str(feature_std))\n",
    "\n",
    "        subset = subset[subset[\"categories_tags\"].notna()]\n",
    "        #print(subset.head())\n",
    "\n",
    "        i=[]\n",
    "        for k in range(subset.shape[0]):\n",
    "            i.append(0)\n",
    "        #add dummy column as knn only works at least 2 numerical columns subsets     \n",
    "        subset['dummy']=i\n",
    "        cpt=0\n",
    "        for col in subset['categories_tags'].unique():\n",
    "            print('* ' + col)\n",
    "            subset_cat=subset.loc[data['categories_tags'] == col]\n",
    "            #print(str(len(subset_cat)))\n",
    "            #print(subset_cat.head())\n",
    "\n",
    "            #We don't try knn if category does not have a single valuated row\n",
    "            if not math.isnan(feature_mean):\n",
    "                subset_imputation=subset_cat[['dummy',feature]]\n",
    "                if type == \"knn\":\n",
    "                    new_values = knn_imputation(subset_imputation,2)\n",
    "                if type == \"mean\":\n",
    "                    new_values = mean_imputation(subset_imputation,feature)\n",
    "                subset_cat['newvalues']=new_values\n",
    "                #print(subset_cat)\n",
    "\n",
    "                #Identify row index where values has been changed. Update with imputed value in the dataframe.\n",
    "                #print('changed indexes')\n",
    "                #print('---------------')\n",
    "                changed_values=subset_cat.loc[(subset_cat[feature] != subset_cat['newvalues'])]\n",
    "                #print(changed_values)\n",
    "                for d in changed_values.index:\n",
    "                    print('**** '+ str(d) + ' ---> ' + str(changed_values.at[d,'newvalues']))\n",
    "                    data.at[d, feature] = changed_values.at[d,'newvalues']\n",
    "            cpt = cpt +1\n",
    "            if cpt == 5:\n",
    "                break\n",
    "            \n",
    "        subset = data[['categories_tags',feature]]\n",
    "        feature_mean_new = subset[feature].mean()\n",
    "        feature_std_new = subset[feature].std()\n",
    "        print('    - mean = ' + str(feature_mean_new))\n",
    "        print('    - std = ' + str(feature_std_new))\n",
    "\n",
    "        mean_dict[\"feature\"].append(feature)\n",
    "        mean_dict[\"original_mean\"].append(feature_mean)\n",
    "        mean_dict[\"original_std\"].append(feature_std)\n",
    "        mean_dict[\"new_mean\"].append(feature_mean_new)\n",
    "        mean_dict[\"new_std\"].append(feature_std_new)\n",
    "        \n",
    "        break         \n",
    "            \n",
    "\n",
    "\n",
    "    #print(df)\n",
    "    mean_updates=pd.DataFrame(mean_dict)\n",
    "    #print(mean_updates)\n",
    "\n",
    "    plt.figure(figsize=(20,5))\n",
    "    means = sns.lineplot(data=mean_updates)\n",
    "    plt.title(\"Imputation par \" + type + \" - Evolution des moyennes et écart type par catégories imputées\")\n",
    "    plt.ylabel(\"Mean/std\")\n",
    "\n",
    "    del subset\n",
    "    del subset_imputation\n",
    "    del subset_cat\n",
    "    del mean_updates"
   ]
  },
  {
   "cell_type": "code",
   "execution_count": 6,
   "metadata": {},
   "outputs": [
    {
     "name": "stdout",
     "output_type": "stream",
     "text": [
      "******* saturated-fat_100g\n",
      "    - mean = 4.8824610042955925\n",
      "    - std = 8.436256663807693\n",
      "* en:groceries,en:condiments,en:sauces,en:mustards\n",
      "        dummy  saturated-fat_100g\n",
      "3           0               2.200\n",
      "719         0               1.325\n",
      "1065        0               0.450\n",
      "2320        0               0.000\n",
      "3248        0               0.800\n",
      "...       ...                 ...\n",
      "253565      0               0.000\n",
      "253743      0               0.800\n",
      "256615      0               0.600\n",
      "289276      0               2.500\n",
      "296165      0               1.325\n",
      "\n",
      "[108 rows x 2 columns]\n",
      "<class 'numpy.ndarray'>\n",
      "---------------------\n",
      "[2.2   1.325 0.45  0.    0.8   0.    1.325 1.325 1.325 1.325 1.325 1.325\n",
      " 1.325 1.325 1.325 1.325 1.325 1.325 1.325 1.325 1.325 0.4   1.325 0.4\n",
      " 1.325 1.325 1.325 1.1   0.    0.    0.    0.    0.    0.    0.8   0.\n",
      " 0.28  0.    0.8   0.8   0.    0.8   0.8   0.3   0.8   0.    1.325 1.325\n",
      " 1.325 1.325 0.5   1.325 1.325 1.325 1.325 0.    1.325 0.    0.    0.3\n",
      " 0.    1.325 0.    0.    0.    0.    1.325 4.8   1.325 1.325 0.    1.325\n",
      " 0.    0.    0.    0.    0.    1.325 1.325 1.2   0.1   0.2   0.    1.325\n",
      " 1.325 5.    0.    0.    0.    0.    1.325 0.    1.325 1.325 1.325 1.325\n",
      " 1.325 4.1   0.74  1.325 1.325 1.325 1.325 0.    0.8   0.6   2.5   1.325]\n",
      "---------------------\n",
      "* fr:xsf\n",
      "   dummy  saturated-fat_100g\n",
      "4      0                 NaN\n",
      "<class 'numpy.ndarray'>\n",
      "---------------------\n"
     ]
    },
    {
     "ename": "IndexError",
     "evalue": "index 1 is out of bounds for axis 1 with size 1",
     "output_type": "error",
     "traceback": [
      "\u001b[0;31m---------------------------------------------------------------------------\u001b[0m",
      "\u001b[0;31mIndexError\u001b[0m                                Traceback (most recent call last)",
      "\u001b[0;32m<ipython-input-6-e6a94f1a5e08>\u001b[0m in \u001b[0;36m<module>\u001b[0;34m\u001b[0m\n\u001b[1;32m      1\u001b[0m \u001b[0mto_be_completed\u001b[0m \u001b[0;34m=\u001b[0m \u001b[0mpercent_of_nans\u001b[0m\u001b[0;34m[\u001b[0m\u001b[0;34m(\u001b[0m\u001b[0mpercent_of_nans\u001b[0m \u001b[0;34m<\u001b[0m \u001b[0;36m25\u001b[0m\u001b[0;34m)\u001b[0m \u001b[0;34m&\u001b[0m \u001b[0;34m(\u001b[0m\u001b[0mpercent_of_nans\u001b[0m \u001b[0;34m>\u001b[0m \u001b[0;36m0\u001b[0m\u001b[0;34m)\u001b[0m\u001b[0;34m]\u001b[0m\u001b[0;34m\u001b[0m\u001b[0;34m\u001b[0m\u001b[0m\n\u001b[1;32m      2\u001b[0m \u001b[0mto_be_completed_high_density\u001b[0m \u001b[0;34m=\u001b[0m \u001b[0mto_be_completed\u001b[0m\u001b[0;34m.\u001b[0m\u001b[0mfilter\u001b[0m\u001b[0;34m(\u001b[0m\u001b[0mlike\u001b[0m\u001b[0;34m=\u001b[0m\u001b[0;34m'_100g'\u001b[0m\u001b[0;34m)\u001b[0m\u001b[0;34m\u001b[0m\u001b[0;34m\u001b[0m\u001b[0m\n\u001b[0;32m----> 3\u001b[0;31m \u001b[0mimputation\u001b[0m\u001b[0;34m(\u001b[0m\u001b[0mdata\u001b[0m\u001b[0;34m,\u001b[0m\u001b[0mto_be_completed_high_density\u001b[0m\u001b[0;34m,\u001b[0m\u001b[0;34m'knn'\u001b[0m\u001b[0;34m)\u001b[0m\u001b[0;34m\u001b[0m\u001b[0;34m\u001b[0m\u001b[0m\n\u001b[0m",
      "\u001b[0;32m<ipython-input-5-6de698db4731>\u001b[0m in \u001b[0;36mimputation\u001b[0;34m(data, features, type)\u001b[0m\n\u001b[1;32m     64\u001b[0m                 \u001b[0msubset_imputation\u001b[0m\u001b[0;34m=\u001b[0m\u001b[0msubset_cat\u001b[0m\u001b[0;34m[\u001b[0m\u001b[0;34m[\u001b[0m\u001b[0;34m'dummy'\u001b[0m\u001b[0;34m,\u001b[0m\u001b[0mfeature\u001b[0m\u001b[0;34m]\u001b[0m\u001b[0;34m]\u001b[0m\u001b[0;34m\u001b[0m\u001b[0;34m\u001b[0m\u001b[0m\n\u001b[1;32m     65\u001b[0m                 \u001b[0;32mif\u001b[0m \u001b[0mtype\u001b[0m \u001b[0;34m==\u001b[0m \u001b[0;34m\"knn\"\u001b[0m\u001b[0;34m:\u001b[0m\u001b[0;34m\u001b[0m\u001b[0;34m\u001b[0m\u001b[0m\n\u001b[0;32m---> 66\u001b[0;31m                     \u001b[0mnew_values\u001b[0m \u001b[0;34m=\u001b[0m \u001b[0mknn_imputation\u001b[0m\u001b[0;34m(\u001b[0m\u001b[0msubset_imputation\u001b[0m\u001b[0;34m,\u001b[0m\u001b[0;36m2\u001b[0m\u001b[0;34m)\u001b[0m\u001b[0;34m\u001b[0m\u001b[0;34m\u001b[0m\u001b[0m\n\u001b[0m\u001b[1;32m     67\u001b[0m                 \u001b[0;32mif\u001b[0m \u001b[0mtype\u001b[0m \u001b[0;34m==\u001b[0m \u001b[0;34m\"mean\"\u001b[0m\u001b[0;34m:\u001b[0m\u001b[0;34m\u001b[0m\u001b[0;34m\u001b[0m\u001b[0m\n\u001b[1;32m     68\u001b[0m                     \u001b[0mnew_values\u001b[0m \u001b[0;34m=\u001b[0m \u001b[0mmean_imputation\u001b[0m\u001b[0;34m(\u001b[0m\u001b[0msubset_imputation\u001b[0m\u001b[0;34m,\u001b[0m\u001b[0mfeature\u001b[0m\u001b[0;34m)\u001b[0m\u001b[0;34m\u001b[0m\u001b[0;34m\u001b[0m\u001b[0m\n",
      "\u001b[0;32m<ipython-input-5-6de698db4731>\u001b[0m in \u001b[0;36mknn_imputation\u001b[0;34m(df_knn, nn)\u001b[0m\n\u001b[1;32m     12\u001b[0m     \u001b[0mprint\u001b[0m\u001b[0;34m(\u001b[0m\u001b[0mtype\u001b[0m\u001b[0;34m(\u001b[0m\u001b[0mdf_filled\u001b[0m\u001b[0;34m)\u001b[0m\u001b[0;34m)\u001b[0m\u001b[0;34m\u001b[0m\u001b[0;34m\u001b[0m\u001b[0m\n\u001b[1;32m     13\u001b[0m     \u001b[0mprint\u001b[0m\u001b[0;34m(\u001b[0m\u001b[0;34m'---------------------'\u001b[0m\u001b[0;34m)\u001b[0m\u001b[0;34m\u001b[0m\u001b[0;34m\u001b[0m\u001b[0m\n\u001b[0;32m---> 14\u001b[0;31m     \u001b[0mprint\u001b[0m\u001b[0;34m(\u001b[0m\u001b[0mdf_filled\u001b[0m\u001b[0;34m[\u001b[0m\u001b[0;34m:\u001b[0m\u001b[0;34m,\u001b[0m\u001b[0;36m1\u001b[0m\u001b[0;34m]\u001b[0m\u001b[0;34m)\u001b[0m\u001b[0;34m\u001b[0m\u001b[0;34m\u001b[0m\u001b[0m\n\u001b[0m\u001b[1;32m     15\u001b[0m     \u001b[0mprint\u001b[0m\u001b[0;34m(\u001b[0m\u001b[0;34m'---------------------'\u001b[0m\u001b[0;34m)\u001b[0m\u001b[0;34m\u001b[0m\u001b[0;34m\u001b[0m\u001b[0m\n\u001b[1;32m     16\u001b[0m     \u001b[0;32mreturn\u001b[0m \u001b[0mdf_filled\u001b[0m\u001b[0;34m[\u001b[0m\u001b[0;34m:\u001b[0m\u001b[0;34m,\u001b[0m\u001b[0;36m1\u001b[0m\u001b[0;34m]\u001b[0m\u001b[0;34m\u001b[0m\u001b[0;34m\u001b[0m\u001b[0m\n",
      "\u001b[0;31mIndexError\u001b[0m: index 1 is out of bounds for axis 1 with size 1"
     ]
    }
   ],
   "source": [
    "to_be_completed = percent_of_nans[(percent_of_nans < 25) & (percent_of_nans > 0)]\n",
    "to_be_completed_high_density = to_be_completed.filter(like='_100g')\n",
    "imputation(data,to_be_completed_high_density,'knn')"
   ]
  },
  {
   "cell_type": "markdown",
   "metadata": {},
   "source": [
    "<b  style=\"background-color:tomato;font-size:12px;\">&nbsp;&nbsp;&nbsp;&nbsp;7.2. MID DENSITY FEATURES<b>\n",
    "    <a id=\"load\"></a>  "
   ]
  },
  {
   "cell_type": "code",
   "execution_count": 66,
   "metadata": {},
   "outputs": [
    {
     "name": "stdout",
     "output_type": "stream",
     "text": [
      "******* calcium_100g\n",
      "    - mean = 0.10836789631290435\n",
      "    - std = 1.857018187350552\n",
      "* en:groceries,en:condiments,en:sauces,en:mustards\n",
      "mean imputation\n",
      "feature = calcium_100g\n",
      "      dummy  calcium_100g\n",
      "3         0      0.004188\n",
      "719       0      0.004188\n",
      "1065      0      0.004188\n",
      "2320      0      0.000000\n",
      "3248      0      0.004188\n",
      "---------------------\n",
      "3         0.004188\n",
      "719       0.004188\n",
      "1065      0.004188\n",
      "2320      0.000000\n",
      "3248      0.004188\n",
      "            ...   \n",
      "253565    0.000000\n",
      "253743    0.004188\n",
      "256615    0.004188\n",
      "289276    0.004188\n",
      "296165    0.004188\n",
      "Name: calcium_100g, Length: 108, dtype: float64\n",
      "---------------------\n",
      "    - mean = 0.10836789631290435\n",
      "    - std = 1.857018187350552\n"
     ]
    },
    {
     "data": {
      "image/png": "[encoded data removed]",
      "text/plain": [
       "<Figure size 1440x360 with 1 Axes>"
      ]
     },
     "metadata": {
      "needs_background": "light"
     },
     "output_type": "display_data"
    }
   ],
   "source": [
    "to_be_completed = percent_of_nans[(percent_of_nans < 50) & (percent_of_nans >= 25 )]\n",
    "to_be_completed_average_density = to_be_completed.filter(like='_100g')\n",
    "imputation(data,to_be_completed_average_density,'mean')"
   ]
  },
  {
   "cell_type": "code",
   "execution_count": null,
   "metadata": {},
   "outputs": [],
   "source": []
  }
 ],
 "metadata": {
  "kernelspec": {
   "display_name": "Python 3",
   "language": "python",
   "name": "python3"
  },
  "language_info": {
   "codemirror_mode": {
    "name": "ipython",
    "version": 3
   },
   "file_extension": ".py",
   "mimetype": "text/x-python",
   "name": "python",
   "nbconvert_exporter": "python",
   "pygments_lexer": "ipython3",
   "version": "3.8.5"
  }
 },
 "nbformat": 4,
 "nbformat_minor": 4
}
