{
 "cells": [
  {
   "cell_type": "markdown",
   "metadata": {},
   "source": [
    "<b>Dans ce notebook on nettoie le dataset sur la base des éléments décrits par le notebook Discover</b>"
   ]
  },
  {
   "cell_type": "markdown",
   "metadata": {},
   "source": [
    "# Table of contents\n",
    "1. [Load du dataset](#load)\n",
    "2. [Mise à l'écart des features redondantes](#purge_redund)\n",
    "3. [Mise à l'écart des features 100% NaN](#purge_nan)\n",
    "4. [Mise à l'écart des features de détail nutritionnel](#detail_features)\n",
    "5. [Création feature PNNS_3](#create_pnns3)\n",
    "6. [Traitement des outliers](#outliers) \n",
    "7. [Imputations](#imputations)\n",
    "\n",
    "    7.1 [High density features](#impute_high_density)\n",
    "    \n",
    "    7.2 [Mid density features](#impute_mid_density)\n",
    "   \n"
   ]
  },
  {
   "cell_type": "markdown",
   "metadata": {},
   "source": [
    "<b  style=\"background-color:tomato;font-size:14px;\">1. LOAD DU DATASET<b>\n",
    "    <a id=\"load\"></a>   "
   ]
  },
  {
   "cell_type": "code",
   "execution_count": 149,
   "metadata": {},
   "outputs": [],
   "source": [
    "import numpy as np \n",
    "import pandas as pd\n",
    "import seaborn as sns\n",
    "import math\n",
    "\n",
    "import matplotlib.pyplot as plt\n",
    "%matplotlib inline\n",
    "import re\n",
    "\n",
    "try:\n",
    "    del data\n",
    "except:\n",
    "    dummy=1\n",
    "\n",
    "#On ne prend qu'un échantillon du fait des limitations mémoire de la machine\n",
    "data=pd.read_csv('../dataset/en.openfoodfacts.org.products.csv',sep='\\t',low_memory=False)\n"
   ]
  },
  {
   "cell_type": "markdown",
   "metadata": {},
   "source": [
    "<b  style=\"background-color:tomato;font-size:14px;\">2. MISE A L'ECART DES FEATURES REDONDANTES<b>\n",
    "    <a id=\"purge_redund\"></a>  "
   ]
  },
  {
   "cell_type": "code",
   "execution_count": 151,
   "metadata": {},
   "outputs": [
    {
     "name": "stdout",
     "output_type": "stream",
     "text": [
      "packaging_tags       'no suffix' -> True ; '_en' suffix -> False\n",
      "brands_tags          'no suffix' -> True ; '_en' suffix -> False\n",
      "categories_tags      'no suffix' -> True ; '_en' suffix -> True\n",
      "origins_tags         'no suffix' -> True ; '_en' suffix -> True\n",
      "manufacturing_places_tags 'no suffix' -> True ; '_en' suffix -> False\n",
      "labels_tags          'no suffix' -> True ; '_en' suffix -> True\n",
      "emb_codes_tags       'no suffix' -> True ; '_en' suffix -> False\n",
      "cities_tags          'no suffix' -> True ; '_en' suffix -> False\n",
      "countries_tags       'no suffix' -> True ; '_en' suffix -> True\n",
      "traces_tags          'no suffix' -> True ; '_en' suffix -> True\n",
      "additives_tags       'no suffix' -> True ; '_en' suffix -> True\n",
      "ingredients_from_palm_oil_tags 'no suffix' -> True ; '_en' suffix -> False\n",
      "ingredients_that_may_be_from_palm_oil_tags 'no suffix' -> True ; '_en' suffix -> False\n",
      "states_tags          'no suffix' -> True ; '_en' suffix -> True\n",
      "data shape before removal: (247796, 183)\n",
      "data shape after removal: (247796, 162)\n"
     ]
    }
   ],
   "source": [
    "columns_to_remove = []\n",
    "for s in data.columns:\n",
    "    if \"_tags\" in s: \n",
    "        t = s.replace('_tags', '')\n",
    "        u = s.replace('_tags', '_en')\n",
    "        print(\"{:<20} 'no suffix' -> {} ; '_en' suffix -> {}\".format(s,t in data.columns, u in data.columns))\n",
    "        if t in data.columns: columns_to_remove.append(t)\n",
    "        if u in data.columns: columns_to_remove.append(u)\n",
    "print('data shape before removal: ' + str(data.shape))\n",
    "data.drop(columns_to_remove, axis = 1, inplace = True)\n",
    "print('data shape after removal: ' + str(data.shape))"
   ]
  },
  {
   "cell_type": "markdown",
   "metadata": {},
   "source": [
    "<b  style=\"background-color:tomato;font-size:14px;\">3. MISE A L'ECART DES FEATURES 100% NaN<b>\n",
    "    <a id=\"purge_nan\"></a>  "
   ]
  },
  {
   "cell_type": "code",
   "execution_count": 152,
   "metadata": {},
   "outputs": [],
   "source": [
    "percent_of_nans = data.isnull().sum().sort_values(ascending=False) / data.shape[0] * 100"
   ]
  },
  {
   "cell_type": "code",
   "execution_count": 153,
   "metadata": {},
   "outputs": [
    {
     "name": "stdout",
     "output_type": "stream",
     "text": [
      "Index(['-stearic-acid_100g', '-myristic-acid_100g', '-erucic-acid_100g',\n",
      "       '-mead-acid_100g', '-gondoic-acid_100g', '-elaidic-acid_100g',\n",
      "       '-dihomo-gamma-linolenic-acid_100g', '-melissic-acid_100g',\n",
      "       '-cerotic-acid_100g', '-lignoceric-acid_100g', 'nucleotides_100g',\n",
      "       '-palmitic-acid_100g', '-lauric-acid_100g', '-capric-acid_100g',\n",
      "       '-caprylic-acid_100g', 'nutrition-score-uk_100g', '-caproic-acid_100g',\n",
      "       'water-hardness_100g', '-butyric-acid_100g', 'no_nutriments',\n",
      "       'allergens_en', '-nervonic-acid_100g'],\n",
      "      dtype='object')\n",
      "data shape before removal: (247796, 162)\n",
      "data shape after removal: (247796, 162)\n"
     ]
    }
   ],
   "source": [
    "useless_features = percent_of_nans[percent_of_nans == 100].index\n",
    "print(useless_features)\n",
    "print('data shape before removal: ' + str(data.shape))\n",
    "#data.drop(useless_features, axis=1, inplace=True)\n",
    "print('data shape after removal: ' + str(data.shape))"
   ]
  },
  {
   "cell_type": "markdown",
   "metadata": {},
   "source": [
    "<b  style=\"background-color:tomato;font-size:14px;\">4. MISE A L'ECART DES FEATURES DE DETAIL NUTRITIONNEL<b>\n",
    "    <a id=\"detail_features\"></a>  "
   ]
  },
  {
   "cell_type": "code",
   "execution_count": null,
   "metadata": {},
   "outputs": [],
   "source": [
    "columns_to_remove = []\n",
    "columns_to_remove = [c for c in data.columns if (re.match('^-',c.lower()))]\n",
    "\n",
    "print('data shape before removal: ' + str(data.shape))\n",
    "data.drop(columns_to_remove, axis = 1, inplace = True)\n",
    "print('data shape after removal: ' + str(data.shape))"
   ]
  },
  {
   "cell_type": "markdown",
   "metadata": {},
   "source": [
    "<b  style=\"background-color:tomato;font-size:14px;\">5. CREATION FEATURE PNNS_3<b>\n",
    "    <a id=\"create_pnns3\"></a> "
   ]
  },
  {
   "cell_type": "code",
   "execution_count": 154,
   "metadata": {},
   "outputs": [],
   "source": [
    "import math\n",
    "def new_pnns(row):\n",
    "    aggregates = {\"Fruit juices\":\"Fruit juices\",\"Fruit nectars\":\"Fruit juices\",\n",
    "                    \"Legumes\":\"Vegetables\",\"vegetables\":\"Vegetables\",\n",
    "                    \"Vegetables\":\"Vegetables\",\n",
    "                    \"fruits\":\"Fruits\",\"Fruits\":\"Fruits\",\n",
    "                    \"Artificially sweetened beverages\":\"Sweetened beverages\",\"Sweetened beverages\":\"Sweetened beverages\",\n",
    "                    \"Pizza pies and quiche\":\"Pizza pies and quiches\",\"Pizza pies and quiches\":\"Pizza pies and quiches\",\n",
    "                    \"cereals\":\"Cereals\",\"Cereals\":\"Cereals\"}\n",
    "    \n",
    "    val_group_2 = row['pnns_groups_2']\n",
    "    val_group_1 = row['pnns_groups_1']\n",
    "    new_val=val_group_2\n",
    "    for i in aggregates: \n",
    "        if isinstance(val_group_2, str):\n",
    "            if val_group_2 in i:\n",
    "                return aggregates[i]    \n",
    "        else:\n",
    "            if math.isnan(val_group_2):\n",
    "                return 'unknown'        \n",
    "\n",
    "    return new_val    \n"
   ]
  },
  {
   "cell_type": "code",
   "execution_count": 155,
   "metadata": {},
   "outputs": [],
   "source": [
    "data['pnns_groups_3'] = data.apply (lambda row: new_pnns(row), axis=1)"
   ]
  },
  {
   "cell_type": "markdown",
   "metadata": {},
   "source": [
    "<b  style=\"background-color:tomato;font-size:14px;\">6. TRAITEMENT DES OUTLIERS<b>\n",
    "    <a id=\"outliers\"></a>  "
   ]
  },
  {
   "cell_type": "markdown",
   "metadata": {},
   "source": [
    "<p>Dans le notebook Discover nous avons mis en évidence la présence d'outliers par détection de leur valeur aberrante par rapport à la médiane (facteur 10 fois l'écart-type).</p>\n",
    "<p>Dans le cadre du notebook de clean on pourrait s'attaquer à nettoyer ces outliers, notamment en leur attribuant la valeur médiane pour rétablir une cohérence de leur expression dans le dataset. </p>\n",
    "<p>Ici nous faisons le choix de les laisser, car nous pensons que le traitement des outliers est avant tout un point d'attention dont il faut tenir compte, son traitement devant donner lieu à un échange avec l'équipe projet pour valider la statégie et la méthode à adopter : suppression de l'enregistrement complet, ajustement de la valeur par une méthode d'imputation (knn, médiane, moyenne) ?</p>"
   ]
  },
  {
   "cell_type": "markdown",
   "metadata": {},
   "source": [
    "<b  style=\"background-color:tomato;font-size:14px;\">7. IMPUTATIONS<b>\n",
    "    <a id=\"imputations\"></a>  "
   ]
  },
  {
   "cell_type": "markdown",
   "metadata": {},
   "source": [
    "<p>On procède à l'imputation des features en NaN afin de ramener une cohérence numérique aux données à analyser.</p>\n",
    "<p>Quelle que soit la méthode utilisée, cela ramène du biais dans le dataset puisqu'une information imputée n'est pas l'information exacte qui aurait pu être présente au départ. L'imputation s'appuyant sur une méthode d'approximation on peut déformer la relation d'une feature par rapport aux autres (corrélations), voir lui donner un poids qui n'aurait pas été le sien avec les vraies valeurs d'origine.</p>\n",
    "<p>Ces aspects sont à discuter avec l'équipe projet.</p> \n",
    "<p>On choisit ici d'utiliser une imputation par kNN pour les features à très faible densité de NaN car on pense que cette méthode a le moins de risque de biaiser fortement ces features.</p>\n",
    "<p>Pour les features à densité moyenne de NaN on retient l'imputation par la médiane car on a vu qu'il y avait des outliers identifiés par un écart de 10 fois l'écart-type, ce qui a un impact biaisant sur la moyenne. </p>"
   ]
  },
  {
   "cell_type": "markdown",
   "metadata": {},
   "source": [
    "<b  style=\"background-color:tomato;font-size:12px;\">&nbsp;&nbsp;&nbsp;&nbsp;7.1. High Density Features<b>\n",
    "    <a id=\"impute_high_density\"></a>  "
   ]
  },
  {
   "cell_type": "code",
   "execution_count": 162,
   "metadata": {},
   "outputs": [],
   "source": [
    "from sklearn.impute import KNNImputer\n",
    "pd.options.mode.chained_assignment = None\n",
    "import math\n",
    "\n",
    "\"\"\"\n",
    "knn imputation function \n",
    "\"\"\"\n",
    "def knn_imputation(df_knn,nn):\n",
    "    \n",
    "    imputer = KNNImputer(n_neighbors=nn, weights='uniform', metric='nan_euclidean')\n",
    "\n",
    "    df_filled = imputer.fit_transform(df_knn)\n",
    "\n",
    "    return df_filled[:,1]\n",
    "\n",
    "\"\"\"\n",
    "median imputation function \n",
    "\"\"\"\n",
    "def median_imputation(df,feature):\n",
    "    df_feature_median = df[feature].median()\n",
    "\n",
    "    df.loc[(df[feature].isnull()),feature]=df_feature_median\n",
    "\n",
    "    return df[feature]\n",
    "\n",
    "\"\"\"\n",
    "add value labels to bar plot function \n",
    "\"\"\"\n",
    "def add_value_labels(ax, spacing=5):\n",
    "\n",
    "    for rect in ax.patches:\n",
    "        y_value = rect.get_height()\n",
    "        x_value = rect.get_x() + rect.get_width() / 2\n",
    "\n",
    "        space = spacing\n",
    "        \n",
    "        va = 'bottom'\n",
    "\n",
    "        if y_value < 0:\n",
    "            space *= -1\n",
    "            va = 'top'\n",
    "\n",
    "        label = \"{:.1f}\".format(y_value)\n",
    "\n",
    "        ax.annotate(\n",
    "            label,                      \n",
    "            (x_value, y_value),         \n",
    "            xytext=(0, space),          \n",
    "            textcoords=\"offset points\", \n",
    "            ha='center',                \n",
    "            va=va)                      \n",
    "\n",
    "\"\"\"\n",
    "imputation algorithm \n",
    "\"\"\"\n",
    "def imputation(data,features,type):\n",
    "    mean_updates=pd.DataFrame()\n",
    "    mean_dict={\"feature\":[],\"original_mean\":[],\"original_std\":[],\"new_mean\":[],\"new_std\":[]}\n",
    "    \n",
    "    cpt_feature=0\n",
    "    for feature in features.index:\n",
    "        subset = data[['categories_tags',feature]]\n",
    "\n",
    "        #valuate mean and standard deviation before knn algorithm\n",
    "        feature_mean = subset[feature].mean()\n",
    "        feature_std = subset[feature].std()\n",
    "        feature_mean_new = feature_mean\n",
    "        feature_std_new = feature_std\n",
    "\n",
    "        subset = subset[subset[\"categories_tags\"].notna()]\n",
    "\n",
    "        i=[]\n",
    "        for k in range(subset.shape[0]):\n",
    "            i.append(0)\n",
    "        #add dummy column as knn only works at least 2 numerical columns subsets     \n",
    "        subset['dummy']=i\n",
    "        cpt_categ=0\n",
    "        for col in subset['categories_tags'].unique():\n",
    "            subset_cat=subset.loc[data['categories_tags'] == col]\n",
    "\n",
    "            #We don't try imputation if category does not have a single valuated row or if category does not have any nan\n",
    "            feature_categ_mean = subset_cat[feature].mean()\n",
    "            if (not math.isnan(feature_categ_mean)) and subset_cat[feature].isnull().values.any():\n",
    "                subset_imputation=subset_cat[['dummy',feature]]\n",
    "                if type == \"knn\":\n",
    "                    new_values = knn_imputation(subset_imputation,3)\n",
    "                if type == \"mean\":\n",
    "                    new_values = median_imputation(subset_imputation,feature)\n",
    "                subset_cat['newvalues']=new_values\n",
    "\n",
    "                #Identify row index where values has been changed. Update with imputed value in the dataframe.\n",
    "                changed_values=subset_cat.loc[(subset_cat[feature] != subset_cat['newvalues'])]\n",
    "                for d in changed_values.index:\n",
    "                    data.at[d, feature] = changed_values.at[d,'newvalues']\n",
    "            cpt_categ = cpt_categ +1\n",
    "            \n",
    "        subset = data[['categories_tags',feature]]\n",
    "        feature_mean_new = subset[feature].mean()\n",
    "        feature_std_new = subset[feature].std()\n",
    "\n",
    "        mean_dict[\"feature\"].append(feature)\n",
    "        mean_dict[\"original_mean\"].append(feature_mean)\n",
    "        mean_dict[\"original_std\"].append(feature_std)\n",
    "        mean_dict[\"new_mean\"].append(feature_mean_new)\n",
    "        mean_dict[\"new_std\"].append(feature_std_new)\n",
    "        \n",
    "        cpt_feature = cpt_feature +1\n",
    "\n",
    "    mean_updates=pd.DataFrame.from_dict(mean_dict)\n",
    "    print(mean_updates)\n",
    "    type=\"knn\"\n",
    "    plt.figure(figsize=(20,5))\n",
    "\n",
    "    fig, axes = plt.subplots(4,3, figsize=(16,8))\n",
    "\n",
    "    plt.suptitle(\"Imputation par \" + type + \" - Evolution des moyennes et écart type par catégories imputées (12 premières features)\")\n",
    "    for i, ax in zip(range(12), axes.flat):\n",
    "        try:\n",
    "            ax1=ax\n",
    "            x=['original','imputation']\n",
    "            ax1.set_xlabel(['original','imputation'])\n",
    "            ax1.set_ylabel('mean', color='blue')\n",
    "            ax1.bar(x, [mean_dict['original_mean'][i],mean_dict['new_mean'][i]], color='blue')\n",
    "            ax1.tick_params(axis='y', labelcolor=\"blue\")\n",
    "            add_value_labels(ax1)\n",
    "\n",
    "            ax2 = ax1.twinx()  \n",
    "\n",
    "            ax2.set_ylabel('std', color=\"red\") \n",
    "            ax2.plot(x, [mean_dict['original_std'][i],mean_dict['new_std'][i]], color='red')\n",
    "            ax2.tick_params(axis='y', labelcolor='red')    \n",
    "\n",
    "            ax.set_title(mean_dict['feature'][i])\n",
    "        except:\n",
    "            break\n",
    "            \n",
    "    plt.tight_layout()    \n",
    "\n",
    "    plt.show() \n",
    "\n",
    "    try:\n",
    "        del subset\n",
    "        del subset_imputation\n",
    "        del subset_cat\n",
    "        del mean_updates\n",
    "    except:\n",
    "        k=0\n",
    "    \n",
    "    return data"
   ]
  },
  {
   "cell_type": "code",
   "execution_count": 163,
   "metadata": {},
   "outputs": [
    {
     "name": "stdout",
     "output_type": "stream",
     "text": [
      "              feature  original_mean  original_std     new_mean     new_std\n",
      "0  saturated-fat_100g       4.988869      7.332253     4.772691    7.278957\n",
      "1         sugars_100g      11.746883     17.811200    11.939285   18.517875\n",
      "2            fat_100g      16.454614     22.407930    16.005872   22.510870\n",
      "3  carbohydrates_100g      27.228951     27.647563    26.758072   27.756871\n",
      "4       proteins_100g       7.710337      8.246805     7.418274    8.148773\n",
      "5         energy_100g    1227.611685    927.886993  1199.874068  931.583765\n"
     ]
    },
    {
     "data": {
      "text/plain": [
       "<Figure size 1440x360 with 0 Axes>"
      ]
     },
     "metadata": {},
     "output_type": "display_data"
    },
    {
     "data": {
      "image/png": "[encoded data removed]",
      "text/plain": [
       "<Figure size 1152x576 with 18 Axes>"
      ]
     },
     "metadata": {
      "needs_background": "light"
     },
     "output_type": "display_data"
    }
   ],
   "source": [
    "to_be_completed = percent_of_nans[(percent_of_nans < 25) & (percent_of_nans > 0)]\n",
    "to_be_completed_high_density = to_be_completed.filter(like='_100g')\n",
    "data=imputation(data,to_be_completed_high_density,'knn')"
   ]
  },
  {
   "cell_type": "markdown",
   "metadata": {},
   "source": [
    "<b  style=\"background-color:tomato;font-size:12px;\">&nbsp;&nbsp;&nbsp;&nbsp;7.2. Mid Density Features<b>\n",
    "    <a id=\"impute_mid_density\"></a>  "
   ]
  },
  {
   "cell_type": "code",
   "execution_count": null,
   "metadata": {},
   "outputs": [],
   "source": [
    "to_be_completed = percent_of_nans[(percent_of_nans < 50) & (percent_of_nans >= 25 )]\n",
    "to_be_completed_average_density = to_be_completed.filter(like='_100g')\n",
    "data=imputation(data,to_be_completed_average_density,'mean')"
   ]
  },
  {
   "cell_type": "code",
   "execution_count": 165,
   "metadata": {},
   "outputs": [],
   "source": [
    "data.to_csv('../dataset/cleaned-dataset.csv', sep='\\t', encoding='utf-8')"
   ]
  },
  {
   "cell_type": "code",
   "execution_count": null,
   "metadata": {},
   "outputs": [],
   "source": []
  }
 ],
 "metadata": {
  "kernelspec": {
   "display_name": "Python 3",
   "language": "python",
   "name": "python3"
  },
  "language_info": {
   "codemirror_mode": {
    "name": "ipython",
    "version": 3
   },
   "file_extension": ".py",
   "mimetype": "text/x-python",
   "name": "python",
   "nbconvert_exporter": "python",
   "pygments_lexer": "ipython3",
   "version": "3.8.5"
  }
 },
 "nbformat": 4,
 "nbformat_minor": 4
}
