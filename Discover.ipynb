{
 "cells": [
  {
   "cell_type": "markdown",
   "metadata": {},
   "source": [
    "<b>Dans ce notebook on ressort des éléments permettant de prendre connaissance du dataset et d'en déduire les actions de clean a effectuer</b>\n",
    "<p><a href=\"https://app.mindmup.com/map/_free/2021/01/175c91405bdb11eb9f33cf002549c867\">mind map du projet</a></p>"
   ]
  },
  {
   "cell_type": "markdown",
   "metadata": {},
   "source": [
    "# Table of contents\n",
    "1. [Load du dataset](#load)\n",
    "2. [Examen de forme](#exam)\n",
    "3. [Définition des mots clés](#keys)\n",
    "\n",
    "   3.1 [Catégories de produit](#categ)\n",
    "   \n",
    "   3.2 [Groupes de produit](#groups)\n",
    "4. [Analyse quantitative des features](#qanalyse)\n",
    "\n",
    "   4.1 [Full NaN features](#full_nan)\n",
    "   \n",
    "   4.2 [Zero NaN features](#zero_nan)\n",
    "   \n",
    "   4.3 [Partial NaN features](#partial_nan)\n",
    "   \n",
    "5. [Audit du dataset](#actors)\n",
    "\n",
    "   5.1 [Qui sont les créateurs d'information](#creators)\n",
    "   \n",
    "   5.2 [Quels pays sont représentés](#countries)\n",
    "   \n",
    "   5.3 [Quelles marques sont représentées](#brands)\n",
    "   \n",
    "   5.4 [Quels supermachés sont représentés](#stores)\n",
    "   \n",
    "   5.5 [Quelles catégories sont représentées](#categories)\n",
    "   \n",
    "   5.6 [Conclusion](#conclusion)\n",
    "6. [Analyse qualitative](#quality)\n",
    "\n",
    "   6.1 [Détection des features biaisées](#skewed_features)\n",
    "   \n",
    "   6.2 [Détection des outliers](#outliers)\n",
    "   \n",
    "   6.3 [Définition des données à compléter](#complete)\n",
    "   \n",
    "   6.4 [Identification des informations redondantes](#redund)\n",
    "   \n",
    "   6.5 [Identification des doublons](#duplicates)\n",
    "7. [Proposition d'application](#application)"
   ]
  },
  {
   "cell_type": "code",
   "execution_count": null,
   "metadata": {},
   "outputs": [],
   "source": [
    "import numpy as np \n",
    "import pandas as pd\n",
    "import seaborn as sns\n",
    "\n",
    "import matplotlib.pyplot as plt\n",
    "%matplotlib inline\n",
    "\n",
    "from wordcloud import WordCloud, STOPWORDS\n",
    "\n",
    "#On ne prend qu'un échantillon du fait des limitations mémoire de la machine\n",
    "data=pd.read_csv('../dataset/en.openfoodfacts.org.products.csv',sep='\\t',nrows=300000, low_memory=False)"
   ]
  },
  {
   "cell_type": "markdown",
   "metadata": {},
   "source": [
    "<b style=\"background-color:tomato;font-size:14px;\">2. EXAMEN DE FORME<b>\n",
    "   <a id=\"exam\"></a>  "
   ]
  },
  {
   "cell_type": "code",
   "execution_count": null,
   "metadata": {},
   "outputs": [],
   "source": [
    "shape = data.shape\n",
    "rows = shape[0]\n",
    "print(shape)"
   ]
  },
  {
   "cell_type": "code",
   "execution_count": null,
   "metadata": {},
   "outputs": [],
   "source": [
    "list (data.columns)\n",
    "dataTypeSeries = data.dtypes"
   ]
  },
  {
   "cell_type": "code",
   "execution_count": null,
   "metadata": {},
   "outputs": [],
   "source": [
    "rows = data.shape\n",
    "rows = rows[0]\n",
    "data.head()"
   ]
  },
  {
   "cell_type": "markdown",
   "metadata": {},
   "source": [
    "<b  style=\"background-color:tomato;font-size:14px;\">3. DEFINITION DES MOTS CLE<b>\n",
    "    <a id=\"keys\"></a> "
   ]
  },
  {
   "cell_type": "markdown",
   "metadata": {},
   "source": [
    "<p>Le dataset permet de catégoriser 4 grandes familles de features pour décrire un produit :</p> \n",
    "<table>\n",
    "    <tr>\n",
    "       <td align=\"center\" bgcolor=\"red\">Description</td>\n",
    "        <td align=\"center\" bgcolor=\"red\">Type de variable</td>\n",
    "        <td align=\"center\" bgcolor=\"red\">Exemple</td>\n",
    "    </tr>    \n",
    "    <tr>\n",
    "        <td>Features de référencement produit</td>\n",
    "        <td>Qualitative</td>\n",
    "        <td>product_name: nom du produit</td>\n",
    "    </tr>\n",
    "    <tr>\n",
    "        <td>Features de caractérisation du produit sous forme d'informations structurées</td>\n",
    "        <td>Qualitative</td>\n",
    "        <td>categories_tags: catégories du produit</td>\n",
    "    </tr>\n",
    "    <tr>\n",
    "        <td>Features de composition du produit (ingrédients, additifs)</td>\n",
    "        <td>Qualitative</td>\n",
    "        <td>additives: liste des additifs présents dans le produit</td>\n",
    "    </tr>\n",
    "    <tr>\n",
    "        <td>Features de détail nutritionnel du produit</td>\n",
    "        <td>Quantitative</td>\n",
    "        <td>vitamin-d_100g: grammage de vitamine d pour 100g de produit</td>\n",
    "    </tr>\n",
    "\n",
    "</table>    \n"
   ]
  },
  {
   "cell_type": "markdown",
   "metadata": {},
   "source": [
    "<b style=\"background-color:tomato;font-size:14px;\">3.1 Catégories<b>\n",
    "    <a id=\"categ\"></a> "
   ]
  },
  {
   "cell_type": "markdown",
   "metadata": {},
   "source": [
    "On s'intéresse ici à la feature categories aux catégories de produit définies dans le dataset\n",
    "#expliquer pourquoi on choisit cette feature : elle permet d'expliquer comment se catégorisent les prd"
   ]
  },
  {
   "cell_type": "code",
   "execution_count": null,
   "metadata": {},
   "outputs": [],
   "source": [
    "def count_words(df, colonne = 'categories_en'):\n",
    "    list_words = set()\n",
    "    for word in df[colonne].str.split(','):\n",
    "        if isinstance(word, float): continue\n",
    "        list_words = set().union(word, list_words)       \n",
    "    print(\"Nb de catégories dans '{}': {}\".format(colonne, len(list_words)))\n",
    "    return list(list_words)\n",
    "category_keys = count_words(data, 'categories_en')"
   ]
  },
  {
   "cell_type": "markdown",
   "metadata": {},
   "source": [
    "Illustrons par un nuage de mots (wordcloud) les catégories qui ressortent"
   ]
  },
  {
   "cell_type": "code",
   "execution_count": null,
   "metadata": {},
   "outputs": [],
   "source": [
    "count_keyword = dict()\n",
    "for index, col in data['categories_en'].iteritems():\n",
    "    if isinstance(col, float): continue\n",
    "    for s in col.split(','):\n",
    "        if s in count_keyword.keys():\n",
    "            count_keyword[s] += 1\n",
    "        else:\n",
    "            count_keyword[s] = 1\n",
    "\n",
    "keyword_census = []\n",
    "for k,v in count_keyword.items():\n",
    "    keyword_census.append([k,v])\n",
    "keyword_census.sort(key = lambda x:x[1], reverse = True)"
   ]
  },
  {
   "cell_type": "code",
   "execution_count": null,
   "metadata": {},
   "outputs": [],
   "source": [
    "fig = plt.figure(1, figsize=(11,9))\n",
    "ax1 = fig.add_subplot(1,1,1)\n",
    "words = dict()\n",
    "trunc_occurences = keyword_census[0:100]\n",
    "for s in trunc_occurences:\n",
    "    words[s[0]] = s[1]\n",
    "\n",
    "wordcloud = WordCloud(width=900,height=500, background_color='white', \n",
    "                      max_words=1628,relative_scaling=0.6,\n",
    "                      normalize_plurals=False)\n",
    "wordcloud.generate_from_frequencies(words)\n",
    "ax1.imshow(wordcloud, interpolation=\"bilinear\")\n",
    "ax1.axis('off')\n",
    "plt.show()"
   ]
  },
  {
   "cell_type": "markdown",
   "metadata": {},
   "source": [
    "En termes chiffrés: "
   ]
  },
  {
   "cell_type": "code",
   "execution_count": null,
   "metadata": {},
   "outputs": [],
   "source": [
    "keyword_census[:5]"
   ]
  },
  {
   "cell_type": "code",
   "execution_count": null,
   "metadata": {},
   "outputs": [],
   "source": [
    "############## commentaire"
   ]
  },
  {
   "cell_type": "markdown",
   "metadata": {},
   "source": [
    "<b style=\"background-color:tomato;font-size:12px;\">3.2 Groupes de produits<b>\n",
    "    <a id=\"groups\"></a> "
   ]
  },
  {
   "cell_type": "code",
   "execution_count": null,
   "metadata": {},
   "outputs": [],
   "source": [
    "La classification des produits est portée par les deux features pnns_groups_1 et pnns_groups_2\n",
    "######### dire comment on a compris ça"
   ]
  },
  {
   "cell_type": "code",
   "execution_count": null,
   "metadata": {},
   "outputs": [],
   "source": [
    "pnns_group1_keys = count_words(data, 'pnns_groups_1')  \n",
    "pnns_group2_keys = count_words(data, 'pnns_groups_2')"
   ]
  },
  {
   "cell_type": "code",
   "execution_count": null,
   "metadata": {},
   "outputs": [],
   "source": [
    "###### etude du contenu en vue de montrer ce que ces catégories signifient et qu'il y a des regroupements possibles"
   ]
  },
  {
   "cell_type": "code",
   "execution_count": null,
   "metadata": {},
   "outputs": [],
   "source": [
    "pnns_group1_keys"
   ]
  },
  {
   "cell_type": "code",
   "execution_count": null,
   "metadata": {},
   "outputs": [],
   "source": [
    "pnns_group2_keys"
   ]
  },
  {
   "cell_type": "code",
   "execution_count": null,
   "metadata": {},
   "outputs": [],
   "source": [
    "######### Créer une fonction qui montre les similitudes et donc les regroupements possibles"
   ]
  },
  {
   "cell_type": "markdown",
   "metadata": {},
   "source": [
    "<p>Le groupe 2 de PNNS est un détail en sous-groupes du groupe 1 de PNNS. Il apparait plus pertinent de se référer à cette définition de catégorie du produit pour le définir plus précisément.</p>\n",
    "<p>On constate par ailleurs qu'il y a des regroupements possibles car les libellés sont similaires (anglais vs français, ou bien à une lettre près il s'agit de la même catégorie). On définit une nouvelle feature PNNS_3 qui va effectuer ces regroupements quand ils sont possibles et conserver la définition originale pour les lignes uniques :</p>\n",
    "<table>\n",
    "    <tr>\n",
    "       <td align=\"center\" bgcolor=\"blue\">Libellé de Regroupement</td>\n",
    "        <td align=\"center\" bgcolor=\"blue\">Catégories regroupées</td>\n",
    "    </tr>    \n",
    "    <tr>\n",
    "        <td>Fruit juices</td>\n",
    "        <td>Fruit juices,Fruit nectars</td>\n",
    "    </tr>\n",
    "    <tr>\n",
    "        <td>Vegetables</td>\n",
    "        <td>Legumes,vegetables,Vegetables</td>\n",
    "    </tr>\n",
    "    <tr>\n",
    "        <td>Fruits</td>\n",
    "        <td>fruits,Fruits</td>\n",
    "    </tr>\n",
    "    <tr>\n",
    "        <td>Sweetened beverages</td>\n",
    "        <td>Artificially sweetened beverages,Sweetened beverages</td>\n",
    "    </tr>\n",
    "    <tr>\n",
    "        <td>Pizza pies and quiches</td>\n",
    "        <td>Pizza pies and quiche,Pizza pies and quiches</td>\n",
    "    </tr>\n",
    "    <tr>\n",
    "        <td>Cereals</td>\n",
    "        <td>cereals,Cereals</td>\n",
    "    </tr>\n",
    "    <tr>\n",
    "        <td>Nuts</td>\n",
    "        <td>Nuts</td>\n",
    "    </tr>\n",
    "    <tr>\n",
    "        <td>Ice cream</td>\n",
    "        <td>Ice cream</td>\n",
    "    </tr>\n",
    "    <tr>\n",
    "        <td>Fish and seafood</td>\n",
    "        <td>Fish and seafood</td>\n",
    "    </tr>\n",
    "    <tr>\n",
    "        <td>Unsweetened beverages</td>\n",
    "        <td>Unsweetened beverages</td>\n",
    "    </tr>\n",
    "    <tr>\n",
    "        <td>Sweets</td>\n",
    "        <td>Sweets</td>\n",
    "    </tr>\n",
    "    <tr>\n",
    "        <td>Cheese</td>\n",
    "        <td>Cheese</td>\n",
    "    </tr>\n",
    "    <tr>\n",
    "        <td>Processed meat</td>\n",
    "        <td>Processed meat</td>\n",
    "    </tr>\n",
    "    <tr>\n",
    "        <td>Waters and flavored waters</td>\n",
    "        <td>Waters and flavored waters</td>\n",
    "    </tr>\n",
    "    <tr>\n",
    "        <td>Soups</td>\n",
    "        <td>Soups</td>\n",
    "    </tr>\n",
    "    <tr>\n",
    "        <td>Dairy desserts</td>\n",
    "        <td>Dairy desserts</td>\n",
    "    </tr>\n",
    "    <tr>\n",
    "        <td>unknown</td>\n",
    "        <td>unknown</td>\n",
    "    </tr>\n",
    "    <tr>\n",
    "        <td>Biscuits and cakes</td>\n",
    "        <td>Biscuits and cakes</td>\n",
    "    </tr>\n",
    "    <tr>\n",
    "        <td>Meat</td>\n",
    "        <td>Meat</td>\n",
    "    </tr>\n",
    "    <tr>\n",
    "        <td>Bread</td>\n",
    "        <td>Bread</td>\n",
    "    </tr>\n",
    "    <tr>\n",
    "        <td>Sandwiches</td>\n",
    "        <td>Sandwiches</td>\n",
    "    </tr>\n",
    "    <tr>\n",
    "        <td>One-dish meals</td>\n",
    "        <td>One-dish meals</td>\n",
    "    </tr>\n",
    "    <tr>\n",
    "        <td>Fats</td>\n",
    "        <td>Fats</td>\n",
    "    </tr>\n",
    "    <tr>\n",
    "        <td>Chocolate products</td>\n",
    "        <td>Chocolate products</td>\n",
    "    </tr>\n",
    "    <tr>\n",
    "        <td>Plant-based milk substitutes</td>\n",
    "        <td>Plant-based milk substitutes</td>\n",
    "    </tr>\n",
    "    <tr>\n",
    "        <td>Milk and yogurt</td>\n",
    "        <td>Milk and yogurt</td>\n",
    "    </tr>\n",
    "    <tr>\n",
    "        <td>Dressings and sauces</td>\n",
    "        <td>Dressings and sauces</td>\n",
    "    </tr>\n",
    "    <tr>\n",
    "        <td>Appetizers</td>\n",
    "        <td>Appetizers</td>\n",
    "    </tr>\n",
    "    <tr>\n",
    "        <td>Potatoes</td>\n",
    "        <td>Potatoes</td>\n",
    "    </tr>\n",
    "    <tr>\n",
    "        <td>Alcoholic beverages</td>\n",
    "        <td>Alcoholic beverages</td>\n",
    "    </tr>\n",
    "    <tr>\n",
    "        <td>Dried fruits</td>\n",
    "        <td>Dried fruits</td>\n",
    "    </tr>\n",
    "    <tr>\n",
    "        <td>Eggs</td>\n",
    "        <td>Eggs</td>\n",
    "    </tr>\n",
    "    <tr>\n",
    "        <td>pastries</td>\n",
    "        <td>pastries</td>\n",
    "    </tr>\n",
    "    <tr>\n",
    "        <td>Teas and herbal teas and coffees</td>\n",
    "        <td>Teas and herbal teas and coffees</td>\n",
    "    </tr>\n",
    "    <tr>\n",
    "        <td>Breakfast cereals</td>\n",
    "        <td>Breakfast cereals</td>\n",
    "    </tr>\n",
    "    <tr>\n",
    "        <td>Offals</td>\n",
    "        <td>Offals</td>\n",
    "    </tr>\n",
    "    <tr>\n",
    "        <td>Salty and fatty products</td>\n",
    "        <td>Salty and fatty products</td>\n",
    "    </tr>\n",
    "</table>"
   ]
  },
  {
   "cell_type": "markdown",
   "metadata": {},
   "source": [
    "<b style=\"background-color:tomato;font-size:14px;\">4. ANALYSE QUANTITATIVE DES FEATURES</b>\n",
    "<a id=\"qanalyse\"></a> "
   ]
  },
  {
   "cell_type": "markdown",
   "metadata": {},
   "source": [
    "<b style=\"background-color:tomato;font-size:12px;\">6.1 Représentativité des features</b>\n",
    "<a id=\"skewed_features\"></a> "
   ]
  },
  {
   "cell_type": "code",
   "execution_count": null,
   "metadata": {},
   "outputs": [],
   "source": [
    "columns = data.columns\n",
    "over_skewed={}\n",
    "\n",
    "for c in columns:\n",
    "    try:\n",
    "        counts = data[c].value_counts()\n",
    "        counts = counts.to_frame(name='nb')\n",
    "        counts['pourcentage'] = counts['nb']/rows\n",
    "        pct = round(sum(counts[0:10]['pourcentage']),2)\n",
    "        if pct > 0.05:\n",
    "            over_skewed[c] = pct\n",
    "    except:\n",
    "        i=1\n",
    "t = dict(sorted(over_skewed.items(), key=lambda item: item[1]))\n",
    "unusual_df = pd.DataFrame.from_dict(t, orient='index')\n",
    "unusual_df.plot(kind='bar', figsize=(12,8), title=\"Représentativité des features dans le dataset\", legend=False)"
   ]
  },
  {
   "cell_type": "markdown",
   "metadata": {},
   "source": [
    "<b style=\"background-color:tomato;font-size:12px;\">6.1 Densité de remplissage des features</b>\n",
    "<a id=\"skewed_features\"></a> "
   ]
  },
  {
   "cell_type": "code",
   "execution_count": null,
   "metadata": {},
   "outputs": [],
   "source": [
    "On cherche à montrer comment est rempli le dataset"
   ]
  },
  {
   "cell_type": "code",
   "execution_count": null,
   "metadata": {},
   "outputs": [],
   "source": [
    "percent_of_nans = data.isnull().sum().sort_values(ascending=False) / data.shape[0] * 100"
   ]
  },
  {
   "cell_type": "code",
   "execution_count": null,
   "metadata": {},
   "outputs": [],
   "source": [
    "plt.figure(figsize=(10,5))\n",
    "sns.displot(percent_of_nans, bins=100, kde=False)\n",
    "plt.xlabel(\"% nans\")\n",
    "plt.ylabel(\"Nombre de features\")\n",
    "plt.title(\"Dispersion de nans dans les features\")"
   ]
  },
  {
   "cell_type": "markdown",
   "metadata": {},
   "source": [
    "<p>La mise en perspective du nombre de NaN par colonne permet de montrer :</p> \n",
    "<p>&nbsp;&nbsp;&nbsp;&nbsp;(1) que la plupart des features ne comporte aucune information (quasi 100% NaN)</p>\n",
    "<p>&nbsp;&nbsp;&nbsp;&nbsp;(2) qu'il y a une part de features qui ont moins de 20% de NaN</p>\n",
    "<p>\n",
    "<p>Pour les features du groupe (1) on peut proposer de ne pas les conserver </p>\n",
    "<p>Pour les features du groupe (2) il sera intéressant d'appliquer une méthode pour tenter de valoriser les NaN </p>"
   ]
  },
  {
   "cell_type": "markdown",
   "metadata": {},
   "source": [
    "<b style=\"background-color:tomato;font-size:12px;\">4.1 Full NaN features</b>\n",
    "<a id=\"full_nan\"></a> "
   ]
  },
  {
   "cell_type": "code",
   "execution_count": null,
   "metadata": {},
   "outputs": [],
   "source": [
    "useless_features = percent_of_nans[percent_of_nans == 100].index\n",
    "useless_features"
   ]
  },
  {
   "cell_type": "markdown",
   "metadata": {},
   "source": [
    "<b style=\"background-color:tomato;font-size:12px;\">4.2 Zero NaN features</b>\n",
    "<a id=\"zero_nan\"></a> \n",
    "<p>Combien de features sont toujours valorisées et quelles sont-elles ?</p>"
   ]
  },
  {
   "cell_type": "code",
   "execution_count": null,
   "metadata": {},
   "outputs": [],
   "source": [
    "zero_nan_features = percent_of_nans[percent_of_nans == 0].index\n",
    "\n",
    "print('Nombre de features systématiquement définies: ' + str(len(zero_nan_features)))\n",
    "zero_nan_features"
   ]
  },
  {
   "cell_type": "markdown",
   "metadata": {},
   "source": [
    "<b style=\"background-color:tomato;font-size:12px;\">4.3 Partiel NaN features</b>\n",
    "<a id=\"partial_nan\"></a> \n",
    "<p>On propose une analyse par quartile pour dégager 3 groupes de features :</p>\n",
    "<table>\n",
    "    <tr>\n",
    "       <td align=\"center\" bgcolor=\"red\">Groupe</td>\n",
    "        <td align=\"center\" bgcolor=\"red\">Catégorie</td>\n",
    "        <td align=\"center\" bgcolor=\"red\">What to do</td>\n",
    "    </tr>    \n",
    "    <tr>\n",
    "        <td>0% - 20%</td>\n",
    "        <td>Features à densité élevée</td>\n",
    "        <td>Features peu biaisée et donc fiables pour une exploitation dans le cadre d'une application. Pour ces features il serait intéressant de valoriser les NaN par application de la moyenne</td>\n",
    "    </tr>\n",
    "    <tr>\n",
    "        <td>20% - 50%</td>\n",
    "        <td>Features à densité moyenne</td>\n",
    "        <td>Features moyennement valorisées, qu'il faudrait soit valoriser pour qu'elles soient pertinentes dans le cadre d'une application (appliquer peut être alors un algorithme knn ?), soit éviter de faire reposer l'analyse dessus.</td>\n",
    "    </tr>\n",
    "    <tr>\n",
    "        <td>50% - 100%</td>\n",
    "        <td>Features à densité faible</td>\n",
    "        <td>Ces features sont trop peu valorisées, il ne semble pas judicieux de les utiliser comme fondement pour mener une analyse</td>\n",
    "    </tr>\n",
    "    \n",
    "</table>\n"
   ]
  },
  {
   "cell_type": "code",
   "execution_count": null,
   "metadata": {},
   "outputs": [],
   "source": [
    "low_nans = percent_of_nans[percent_of_nans <= 20]\n",
    "middle_nans = percent_of_nans[(percent_of_nans > 20) & (percent_of_nans <= 50)]\n",
    "high_nans = percent_of_nans[(percent_of_nans > 50) & (percent_of_nans < 100)]"
   ]
  },
  {
   "cell_type": "markdown",
   "metadata": {},
   "source": [
    "<b>0% - 20% NaN</b>\n",
    "####################ressortir le nb de cols par tranches"
   ]
  },
  {
   "cell_type": "code",
   "execution_count": null,
   "metadata": {},
   "outputs": [],
   "source": [
    "def rotate_labels(axes):\n",
    "    for item in axes.get_xticklabels():\n",
    "        item.set_rotation(60)"
   ]
  },
  {
   "cell_type": "code",
   "execution_count": null,
   "metadata": {},
   "outputs": [],
   "source": [
    "plt.figure(figsize=(20,5))\n",
    "lows = sns.barplot(x=low_nans.index.values, y=low_nans.values, palette=\"Greens\")\n",
    "rotate_labels(lows)\n",
    "plt.title(\"Features avec peu de NaN (<20%)\")\n",
    "plt.ylabel(\"% de NaN \")"
   ]
  },
  {
   "cell_type": "markdown",
   "metadata": {},
   "source": [
    "<b>20% - 50% NaN</b>"
   ]
  },
  {
   "cell_type": "code",
   "execution_count": null,
   "metadata": {},
   "outputs": [],
   "source": [
    "plt.figure(figsize=(20,5))\n",
    "middle = sns.barplot(x=middle_nans.index.values, y=middle_nans.values, palette=\"Blues\")\n",
    "rotate_labels(middle)\n",
    "plt.title(\"Features avec un nombre moyen de NaN\")\n",
    "plt.ylabel(\"% de NaN \")"
   ]
  },
  {
   "cell_type": "code",
   "execution_count": null,
   "metadata": {},
   "outputs": [],
   "source": [
    "Il est intéressant de remarquer que dans cette catégorie on retrouve un certain nombre de features \"tags\", qui sont porteuses de détails intéressants :"
   ]
  },
  {
   "cell_type": "code",
   "execution_count": null,
   "metadata": {},
   "outputs": [],
   "source": [
    "data.loc[11000,['additives_tags', 'additives_en', 'additives_n']]"
   ]
  },
  {
   "cell_type": "markdown",
   "metadata": {},
   "source": [
    "<b>50% - 100% NaN</b>"
   ]
  },
  {
   "cell_type": "code",
   "execution_count": null,
   "metadata": {},
   "outputs": [],
   "source": [
    "plt.figure(figsize=(15,30))\n",
    "high = sns.barplot(y=high_nans.index.values, x=high_nans.values, palette=\"Reds\")\n",
    "plt.title(\"Features comportant une grande part de NaN (> 50%)\")\n",
    "plt.ylabel(\"% de NaN \")"
   ]
  },
  {
   "cell_type": "markdown",
   "metadata": {},
   "source": [
    "<p>A première vue la grande partie des features entrant dans ce cas sont les détails fins d'analyse nutritionnelle (vitamines, oligo-éléments, ...). Cela peut se comprendre si l'utilisateur qui a effectué l'enregistrement soit n'en a pas connaissance car cela n'est pas répertorié sur l'étiquette du produit, soit parce que l'étape de saisie est trop fastidieuse. </p> \n",
    "</p>On constate pour ce groupe que le % de NaN est au minimum de 75%. Cela rend l'exploitation de ces features quasi impossible. Je pense que nous pouvons raisonnablement écarter ces features.<p>\n",
    "\n",
    "<br>\n",
    "<p>Parmi les éléments remarquables, on peut noter que les features suivantes ne sont jamais renseignées :</p>\n",
    "<p>&nbsp;&nbsp;&nbsp;&nbsp;origine<p>\n",
    "<p>&nbsp;&nbsp;&nbsp;&nbsp;lieu de fabrication<p>    \n",
    "<p>Là également on peut comprendre que cette information ne soit pas bien valorisée, mais elle met en lumière la problématique de traçabilité d'un produit.<p>\n",
    "   "
   ]
  },
  {
   "cell_type": "markdown",
   "metadata": {},
   "source": [
    "<b style=\"background-color:tomato;font-size:14px;\">4. ANALYSE DE CORRELATION DES FEATURES</b>\n",
    "<a id=\"qanalyse\"></a> "
   ]
  },
  {
   "cell_type": "markdown",
   "metadata": {},
   "source": [
    "On cherche à détecter les relations linéaires qui existent éventuellement entre les variables du dataset. \n",
    "On retient pour cela la représentation de la matrice de correlation du coefficient de relation linéaire de Pearson.\n",
    "L'objectif dans un premier temps est d'identifier les correlations très fortes qui indiqueraient les features porteuses d'information similaires et dont on pourrait alors ne retenir qu'un représentant."
   ]
  },
  {
   "cell_type": "code",
   "execution_count": null,
   "metadata": {},
   "outputs": [],
   "source": [
    "sns.set(context=\"paper\", font_scale = 1.2)\n",
    "corrmat = data.corr()\n",
    "f, ax = plt.subplots(figsize=(12, 12))\n",
    "f.text(0.45, 0.93, \"Matrice des coefficients correlation de Pearson\", ha='center', fontsize = 18)\n",
    "sns.heatmap(corrmat, square=True, linewidths=0.01, cmap=\"coolwarm\")\n",
    "plt.tight_layout()"
   ]
  },
  {
   "cell_type": "markdown",
   "metadata": {},
   "source": [
    "On remarque: \n",
    "    - des features -xxxx_100g : elles correspondent au détail fin de la famille de nutriment. En fonction de notre application si on prend bien en considération la famille de nutriment on peut alors écarter ces features\n",
    "    "
   ]
  },
  {
   "cell_type": "markdown",
   "metadata": {},
   "source": [
    "    - des features libelle, libelle_tags,libelle_en: ces features correspondent à une déclinaison similaire d'une même information. On peut proposer de n'en retenir qu'une\n",
    "    #########montrer un exemple ?"
   ]
  },
  {
   "cell_type": "code",
   "execution_count": null,
   "metadata": {},
   "outputs": [],
   "source": [
    "list_columns = ['categories', 'categories_tags', 'categories_en']\n",
    "data[data[list_columns].notnull().any(axis=1)][['product_name']+ list_columns][:20:3]"
   ]
  },
  {
   "cell_type": "markdown",
   "metadata": {},
   "source": [
    "Démontrer que les infos sont similaires en mettant en valeur que le contenu d'une feature se retrouve dans d'autres features identifiées comme redondantes (graphs)"
   ]
  },
  {
   "cell_type": "markdown",
   "metadata": {},
   "source": [
    "<p>Dans la phase de cleaning on ne conservera que les features '_tags' pour permettre une exploitation des informations (notamment l'association langue:terme)</p>"
   ]
  },
  {
   "cell_type": "markdown",
   "metadata": {},
   "source": [
    "<b style=\"background-color:tomato;font-size:14px;\">5. AUDIT DU DATASET</b>\n",
    "<a id=\"actors\"></a> "
   ]
  },
  {
   "cell_type": "markdown",
   "metadata": {},
   "source": [
    "<p>Au point précédent nous avons constaté que les informations nutritionnelles fines n'étaient quasi pas renseignées. Cela nous amène à vérifier comment sont valorisées les informations du dataset (institutions, pays, etc ...)</p>"
   ]
  },
  {
   "cell_type": "code",
   "execution_count": null,
   "metadata": {},
   "outputs": [],
   "source": [
    "<b style=\"background-color:tomato;font-size:12px;\">5.1 Qui sont les créateurs d'information</b>\n",
    "<a id=\"creators\"></a> "
   ]
  },
  {
   "cell_type": "code",
   "execution_count": null,
   "metadata": {},
   "outputs": [],
   "source": [
    "def top_n(col,col_alias,n):\n",
    "    counts = data[col].value_counts()\n",
    "    counts = counts.to_frame(name='nombre')\n",
    "    counts['pourcentage'] = (counts['nombre']/rows)*100\n",
    "\n",
    "    top_n = round(sum(counts[0:n]['pourcentage']),2)*100\n",
    "    print(\"Le top \" + str(n) + \" des\", col_alias,\"cumule\", str(top_n/100),\"% du périmètre : \\n\")\n",
    "\n",
    "    # Pie chart\n",
    "    sub_df=counts.head(n)\n",
    "    labels = sub_df.iloc[ : , 0 ]\n",
    "    labels=labels.index\n",
    "    sizes = sub_df.iloc[ : , 1 ]\n",
    "    explode = tuple()\n",
    "    for i in range(n):\n",
    "        explode += (0.1, )\n",
    "\n",
    "    # Creating color parameters \n",
    "    colors = ( \"orange\", \"cyan\", \"brown\", \n",
    "              \"grey\", \"indigo\", \"beige\") \n",
    "\n",
    "    # Wedge properties \n",
    "    wp = { 'linewidth' : 1, 'edgecolor' : \"green\" } \n",
    "\n",
    "    # Creating autocpt arguments \n",
    "    def func(pct, allvalues): \n",
    "        absolute = int(pct / 100.*np.sum(allvalues)) \n",
    "        return \"{:.1f}%\".format(pct, absolute) \n",
    "\n",
    "    # Creating plot \n",
    "    fig, ax = plt.subplots(figsize =(10, 7)) \n",
    "    wedges, texts, autotexts = ax.pie(sizes,  \n",
    "                                      autopct = lambda pct: func(pct, sizes), \n",
    "                                      explode = explode,  \n",
    "                                      labels = labels, \n",
    "                                      shadow = True, \n",
    "                                      colors = colors, \n",
    "                                      startangle = 90, \n",
    "                                      wedgeprops = wp, \n",
    "                                      textprops = dict(color =\"magenta\")) \n",
    "\n",
    "    # Legend \n",
    "    ax.legend(wedges, labels, \n",
    "              title =\"Contributeurs\", \n",
    "              loc =\"center left\", \n",
    "              bbox_to_anchor =(1, 0, 0.5, 1)) \n",
    "\n",
    "    plt.setp(autotexts, size = 8, weight =\"bold\") \n",
    "\n",
    "    plt.show()     "
   ]
  },
  {
   "cell_type": "code",
   "execution_count": null,
   "metadata": {},
   "outputs": [],
   "source": [
    "top_n('creator','créateurs',5)"
   ]
  },
  {
   "cell_type": "markdown",
   "metadata": {},
   "source": [
    "Le principal contributeur est le département de l'agriculture américain (https://www.usda.gov/)"
   ]
  },
  {
   "cell_type": "markdown",
   "metadata": {},
   "source": [
    "<b style=\"background-color:tomato;font-size:12px;\">5.2 Quels sont les pays représentés</b>\n",
    "<a id=\"countries\"></a> "
   ]
  },
  {
   "cell_type": "code",
   "execution_count": null,
   "metadata": {},
   "outputs": [],
   "source": [
    "top_n('countries','pays',5)"
   ]
  },
  {
   "cell_type": "markdown",
   "metadata": {},
   "source": [
    "<p>On retrouve principalement les Etats Unis, puis la France.</p>\n",
    "<p>Dans l'idée de l'application de santé publique du ministère français il me semble approprié de ne pas conserver les données US qui présentent un biais trop important, d'autant que les produits US ne sont pas nécessairement disponibles en France.<p>"
   ]
  },
  {
   "cell_type": "markdown",
   "metadata": {},
   "source": [
    "<b style=\"background-color:tomato;font-size:12px;\">5.3 Quelles marques sont représentées</b>\n",
    "<a id=\"brands\"></a> "
   ]
  },
  {
   "cell_type": "code",
   "execution_count": null,
   "metadata": {},
   "outputs": [],
   "source": [
    "top_n('brands','marques',10)"
   ]
  },
  {
   "cell_type": "markdown",
   "metadata": {},
   "source": [
    "Top 10 des marques en France"
   ]
  },
  {
   "cell_type": "code",
   "execution_count": null,
   "metadata": {},
   "outputs": [],
   "source": [
    "france = data[(data['countries']==\"France\") | (data['countries']==\"en:FR\") | (data['countries']==\"en:france\")]\n",
    "y=france['brands'].value_counts().head(10)\n",
    "x=france['brands'].value_counts().head(10).index\n",
    "plt.figure(figsize=(20,5))\n",
    "show = sns.barplot(x=x, y=y,hue=y, palette=(\"Oranges\"))\n",
    "rotate_labels(show)\n",
    "show.legend_.remove()\n",
    "plt.title(\"top 10 des marques en France\")"
   ]
  },
  {
   "cell_type": "markdown",
   "metadata": {},
   "source": [
    "<b style=\"background-color:tomato;font-size:12px;\">5.4 Quels supermachés sont représentés</b>\n",
    "<a id=\"stores\"></a> "
   ]
  },
  {
   "cell_type": "code",
   "execution_count": null,
   "metadata": {},
   "outputs": [],
   "source": [
    "top_n('stores','Supermarchés tous pays confondus',10)"
   ]
  },
  {
   "cell_type": "markdown",
   "metadata": {},
   "source": [
    "Top 10 des supermarchés en France"
   ]
  },
  {
   "cell_type": "code",
   "execution_count": null,
   "metadata": {},
   "outputs": [],
   "source": [
    "france = data[(data['countries']==\"France\") | (data['countries']==\"en:FR\") | (data['countries']==\"en:france\")]\n",
    "y=france['stores'].value_counts().head(10)\n",
    "x=france['stores'].value_counts().head(10).index\n",
    "plt.figure(figsize=(20,5))\n",
    "show = sns.barplot(x=x, y=y,hue=y, palette=(\"Oranges\"))\n",
    "rotate_labels(show)\n",
    "show.legend_.remove()\n",
    "plt.title(\"top 10 des supermarchés en France\")"
   ]
  },
  {
   "cell_type": "markdown",
   "metadata": {},
   "source": [
    "<b style=\"background-color:tomato;font-size:12px;\">5.5 Quelles catégories sont représentées</b>\n",
    "<a id=\"categories\"></a> "
   ]
  },
  {
   "cell_type": "code",
   "execution_count": null,
   "metadata": {},
   "outputs": [],
   "source": [
    "fig = plt.figure(figsize=(12,6))\n",
    "ax1 = fig.add_subplot(121)\n",
    "ax2 = fig.add_subplot(122)\n",
    "\n",
    "fr_values = france['main_category'].value_counts()\n",
    "us_values = us['main_category'].value_counts()\n",
    "fr_values[0:10].plot(kind='bar', ax=ax1, title=\"France\")\n",
    "us_values[0:10].plot(kind='bar', ax=ax2, title=\"US\")\n",
    "print('                       Quelles sont les catégories les plus représentées ?')\n",
    "plt.show()"
   ]
  },
  {
   "cell_type": "code",
   "execution_count": null,
   "metadata": {},
   "outputs": [],
   "source": [
    "def rotate_labels(axes):\n",
    "    for item in axes.get_xticklabels():\n",
    "        item.set_rotation(60)"
   ]
  },
  {
   "cell_type": "code",
   "execution_count": null,
   "metadata": {},
   "outputs": [],
   "source": [
    "def univariateBarPlotting(var, title):\n",
    "    plt.figure(figsize=(20,5))\n",
    "    fig = sns.barplot(y=data[var].index.values, x=data[var].values, color=\"blue\")\n",
    "    rotate_labels(fig)\n",
    "    plt.title(title)"
   ]
  },
  {
   "cell_type": "code",
   "execution_count": null,
   "metadata": {},
   "outputs": [],
   "source": [
    "univariateBarPlotting('pnns_groups_1','Quantité de produits par groupe')"
   ]
  },
  {
   "cell_type": "code",
   "execution_count": null,
   "metadata": {},
   "outputs": [],
   "source": [
    "data['pnns_groups_1'].describe()"
   ]
  },
  {
   "cell_type": "code",
   "execution_count": null,
   "metadata": {},
   "outputs": [],
   "source": [
    "univariateBarPlotting('pnns_groups_2','Quantité de produits par sous-groupe')"
   ]
  },
  {
   "cell_type": "code",
   "execution_count": null,
   "metadata": {},
   "outputs": [],
   "source": [
    "def showSubCategContents(v):\n",
    "    \n",
    "    subset=data[(data['pnns_groups_2']==v)]\n",
    "    ar=subset.values\n",
    "    ar=ar[:30,7]\n",
    "\n",
    "    fig = plt.figure()\n",
    "    fig.suptitle('Zoom sur les 30 premiers aliments de la sous groupe ' + v, fontsize=12, fontweight='bold')\n",
    "\n",
    "    ax = fig.add_subplot(111)\n",
    "\n",
    "    i=0\n",
    "    k=0\n",
    "    for wd in enumerate(ar):\n",
    "        if i%2 == 0:\n",
    "            ax.text(1, (i+1), wd[1], color='green', fontsize=8)\n",
    "        else:     \n",
    "            ax.text(3, (i+1), wd[1], color='blue', fontsize=8)\n",
    "        i = i + 1\n",
    "    ax.axis([3, 0, 30, 0])   \n",
    "    plt.axis('off')\n",
    "    plt.show()"
   ]
  },
  {
   "cell_type": "code",
   "execution_count": null,
   "metadata": {},
   "outputs": [],
   "source": [
    "showSubCategContents(\"Meat\")"
   ]
  },
  {
   "cell_type": "code",
   "execution_count": null,
   "metadata": {},
   "outputs": [],
   "source": [
    "showSubCategContents(\"Cereals\")"
   ]
  },
  {
   "cell_type": "code",
   "execution_count": null,
   "metadata": {},
   "outputs": [],
   "source": [
    "showSubCategContents(\"unknown\")"
   ]
  },
  {
   "cell_type": "markdown",
   "metadata": {},
   "source": [
    "<b style=\"background-color:tomato;font-size:12px;\">5.6 Conclusion</b>\n",
    "<a id=\"conclusion\"></a> "
   ]
  },
  {
   "cell_type": "markdown",
   "metadata": {},
   "source": [
    "On constate qu'à première vue le dataset comporte de nombreux produits issus de la grande distribution. \n",
    "Sans préjuger de leur qualité nutritionnelle, il semble intéressant dans la cadre de la conception d'une application en lien avec la nutrition de mettre en perspective la qualité nutritionnelle de ces produits avec des produits bruts.\n",
    "D'autre part dans les groupes (pnns_groups_1) et sous groupe (pnns_groups_2) les entrées correspondant à \"unknown\", qui représentent (/!\\ donner des chiffres) ne présentent pas d'intérêt à être conservées, elles seront purgées dans la phase de clean. "
   ]
  },
  {
   "cell_type": "markdown",
   "metadata": {},
   "source": [
    "<b style=\"background-color:tomato;font-size:14px;\">6. ANALYSE QUALITATIVE</b>\n",
    "<a id=\"quality\"></a> "
   ]
  },
  {
   "cell_type": "markdown",
   "metadata": {},
   "source": [
    "On vérifie la présence d'outliers dans les différentes features porteuses d'information nutritionnelle. L'idée est d'évaluer la cohérence portée par celles-ci et d'avoir une idée du travail d'ajustement nécessaire.\n",
    "Pour établir une règle générale on procède à un échantillonage sur le périmètre de ces features. On défira alors le seuil le plus approprié. "
   ]
  },
  {
   "cell_type": "code",
   "execution_count": null,
   "metadata": {},
   "outputs": [],
   "source": [
    "quantite = ['energy_100g', 'vitamin-a_100g', 'vitamin-c_100g', 'vitamin-pp_100g',\n",
    "            'vitamin-b6_100g','vitamin-b9_100g','pantothenic-acid_100g', 'biotin_100g',\n",
    "            'salt_100g','fat_100g','fiber_100g','sugars_100g']"
   ]
  },
  {
   "cell_type": "code",
   "execution_count": null,
   "metadata": {},
   "outputs": [],
   "source": [
    "sigma = [0 for _ in range(len(quantite))]\n",
    "mediane = [0 for _ in range(len(quantite))]\n",
    "for i in range(len(quantite)):\n",
    "    colonne = quantite[i]\n",
    "    mediane[i] = data[pd.notnull(data[colonne])][colonne].median()\n",
    "    test = data[pd.notnull(data[colonne])][colonne]\n",
    "    test = test.sort_values()    \n",
    "    sigma[i] = np.std(test[:-25])    "
   ]
  },
  {
   "cell_type": "code",
   "execution_count": null,
   "metadata": {},
   "outputs": [],
   "source": [
    "tPlot, axes = plt.subplots(nrows=4, ncols=3, sharex=False, sharey=False, figsize=(11,11))\n",
    "axes = np.array(axes)\n",
    "sigma_factor = 10\n",
    "i=0\n",
    "for ax in axes.reshape(-1):\n",
    "    colonne = quantite[i]\n",
    "    test = data[pd.notnull(data[colonne])][colonne]\n",
    "    ax.tick_params(labelcolor='black',top='off',bottom='on',left='on',right='off',labelsize=6)\n",
    "    ax.set_ylabel(colonne.rstrip(\"_100g\"), fontsize = 10)\n",
    "    ax.set_yscale(\"log\")\n",
    "    ax.plot(list(test), 'b.', markeredgewidth = 0.3, markeredgecolor='w')\n",
    "    for tick in ax.get_xticklabels():\n",
    "        tick.set_rotation(30)\n",
    "    ax.axhline(y=mediane[i] + sigma_factor*sigma[i], color='r', linestyle='-')\n",
    "    \n",
    "    ax.text(0., 0.02, ' median:{:.3} \\n sigma:{:.3}'.format(mediane[i], sigma[i]),\n",
    "            style='italic', transform=ax.transAxes, fontsize = 10,\n",
    "            bbox={'facecolor':'green', 'alpha':0.5, 'pad':0})\n",
    "    i += 1\n",
    "\n",
    "tPlot.text(0.5, 1.01, \"Mise en évidence des outliers par rapport au seuil \" + str(sigma_factor) + \" * sigma\", ha='center', fontsize = 12)\n",
    "plt.tight_layout()"
   ]
  },
  {
   "cell_type": "markdown",
   "metadata": {},
   "source": [
    "Après plusieurs ajustements du facteur de déviation standard des valeures de feature par rapport à la médiane on arrive à un bon compromis avec 10 sigma. \n",
    "On va donc retenir cette valeur pour écarter les outliers dans nos traitements de cleaning en définissant que si une valeur de feature dépasse de 10 sigma la valeur médiane de cette feature on l'écarte du dataset, à la condition que la valeur apparemment en outling ne soit pas portée par un seul ingrédent (comme par exemple le sel).  "
   ]
  },
  {
   "cell_type": "markdown",
   "metadata": {},
   "source": [
    "<b style=\"background-color:tomato;font-size:12px;\">6.3 Définition des données à compléter<b>\n",
    "    <a id=\"complete\"></a> "
   ]
  },
  {
   "cell_type": "markdown",
   "metadata": {},
   "source": [
    "Dans l'optique d'une application de santé publique on s'appuyera nécessairement sur les qualités intrinsèques du produit. Ces qualités sont portées par les features quantitatives. On propose donc de partir du périmètre des features quantitatives dont on va analyser la densité de contenu. Pour celles dont la densité est comprise dans la fourchette de 75% à 100% on proposera de les valoriser par une méthode de régression (point développé dans le notebook de clean).  "
   ]
  },
  {
   "cell_type": "code",
   "execution_count": null,
   "metadata": {},
   "outputs": [],
   "source": [
    "to_be_completed = percent_of_nans[(percent_of_nans < 25) & (percent_of_nans > 0)]\n",
    "to_be_completed_high_density = to_be_completed.filter(like='_100g')\n",
    "to_be_completed_high_density"
   ]
  },
  {
   "cell_type": "markdown",
   "metadata": {},
   "source": [
    "Pour celles dont la densité est comprise dans la fourchette de 50% à 75% on proposera de les valoriser par application de la valeur médiane."
   ]
  },
  {
   "cell_type": "code",
   "execution_count": null,
   "metadata": {},
   "outputs": [],
   "source": [
    "to_be_completed = percent_of_nans[(percent_of_nans < 50) & (percent_of_nans >= 25 )]\n",
    "to_be_completed_average_density = to_be_completed.filter(like='_100g')\n",
    "to_be_completed_average_density"
   ]
  },
  {
   "cell_type": "markdown",
   "metadata": {},
   "source": [
    "<b style=\"background-color:tomato;font-size:12px;\">6.4 Identification des informations redondantes<b>\n",
    "    <a id=\"redund\"></a> "
   ]
  },
  {
   "cell_type": "markdown",
   "metadata": {},
   "source": [
    "On remarque à première vue que la liste de features comporte des noms redondants.\n",
    "Ex: categories, categories_en, categories_tag"
   ]
  },
  {
   "cell_type": "code",
   "execution_count": null,
   "metadata": {},
   "outputs": [],
   "source": [
    "<b style=\"background-color:tomato;font-size:12px;\">6.5 Identification des doublons<b>\n",
    "    <a id=\"duplicates\"></a> "
   ]
  },
  {
   "cell_type": "code",
   "execution_count": null,
   "metadata": {},
   "outputs": [],
   "source": [
    "duplicates = []\n",
    "for i,dup in enumerate(data.duplicated(subset=(['product_name','creator']))):\n",
    "    if dup: \n",
    "        s = data[\"product_name\"][i]\n",
    "        if not pd.isna(s):\n",
    "            r = [s,data[\"creator\"][i]]\n",
    "            duplicates.append(r)\n",
    "len(duplicates)            "
   ]
  },
  {
   "cell_type": "code",
   "execution_count": null,
   "metadata": {},
   "outputs": [],
   "source": [
    "duplicates[0:10]"
   ]
  },
  {
   "cell_type": "code",
   "execution_count": null,
   "metadata": {},
   "outputs": [],
   "source": [
    "data.loc[(data['product_name'] == \"Miel\") & (data['creator'] == \"kiliweb\")]"
   ]
  },
  {
   "cell_type": "markdown",
   "metadata": {},
   "source": [
    "Sur cet exemple on comprend que pour un produit donné et un contributeur donné on a plusieurs entrées sans pouvoir définir laquelle pourrait être gardée. En effet il n'y a pas de critère évident qui permettrait d'affiner la sélection pour ne retenir que le plus pertinent (comme la date de dernière modification qui pourrait signifier que les données de la ligne ont été mises à jour avec de meilleures données).\n",
    "En l'état nous ne projetons pas de traiter les doublons.\n",
    "####### démontrer que ce ne sont pas des doublons, concaténer les valeurs de features et ressortir si doublons ou pas)\n"
   ]
  },
  {
   "cell_type": "code",
   "execution_count": null,
   "metadata": {},
   "outputs": [],
   "source": [
    "del data\n",
    "del percent_of_nans\n",
    "del unusual_df\n",
    "del to_be_completed\n",
    "del to_be_completed_high_density\n",
    "del to_be_completed_average_density"
   ]
  },
  {
   "cell_type": "markdown",
   "metadata": {},
   "source": [
    "<b style=\"background-color:tomato;font-size:14px;\">7. PROPOSITION D'APPLICATION<b>\n",
    "    <a id=\"application\"></a> "
   ]
  },
  {
   "cell_type": "markdown",
   "metadata": {},
   "source": [
    "\n",
    "<p>Les objectifs affichés du Ministère de Santé Publique en matière de pratiques alimentaires sont clairement définis dans la rubrique Recommandations de son site lié à la nutrition : <a href=\"https://www.mangerbouger.fr/\">site mangerbouger</a></p>\n",
    "<p>Ces recommandations ciblent des catégories d'aliments pour lesquelles le Ministère définit une tendance à les intégrer dans les repas (Augmenter, Aller vers, Réduire)</p>\n",
    "\n",
    "<p>De façon à quantifier l'impact de ces recommandations il est important de s'appuyer sur des indicateurs clairement établis. On distingue 2 indicateurs :</p>\n",
    "<p>- le score nutritionnel : il permet, sur la base de la composition du produit (aliment brut ou bien produit transformé) en différents nutriments et ingrédients majeurs pour la santé, de donner une valeur unique d’estimation de la qualité nutritionnelle de l’aliment, sur une échelle ordinale continue allant de -15\n",
    "(meilleure qualité nutritionnelle) à +40 (pire qualité nutritionnelle) </p>\n",
    "<p>- le nutriscore : il définit une échelle graphique qui scinde le score nutritionnel en 5 classes (exprimées par une couleur associée à une lettre) et vise à faciliter la visibilité, la lisibilité, et la compréhension de la qualité nutritionnelle par le consommateur</p>\n",
    "\n",
    "<p>voir références:</p>\n",
    "<p>&nbsp;&nbsp;&nbsp;-&nbsp;<a href=\"https://fr.wikipedia.org/wiki/Nutri-score#M%C3%A9thode_de_calcul_du_score\">Définition Wikipedia</a></p>\n",
    "<p>&nbsp;&nbsp;&nbsp;-&nbsp;<a href=\"https://www.santepubliquefrance.fr/content/download/150262/file/QR%20scientifique%20et%20technique_271020.pdf\">Définition Ministère santé publique</a></p>\n",
    "<p>D'autre part nous avons pu constater que les acteurs et les produits étaient fortement liés à la grande distribution. Il serait intéressant de mettre en perspective la qualité nutritionnelle découlant de la mise en oeuvre de ces produits dans le cadre d'un repas par rapport aux recommandations du Ministère de la Santé.</p>\n",
    "<p>Pour cela on pourrait concevoir une application qui permettrait d'illuster les bienfaits de l'application de ces recommandations.</p>\n",
    "<p>L'application devrait montrer l'impact sur le score nutritionnel global d'un repas quand une part des ingrédients est modifiée en fonction de ces recommandations.</p>\n",
    "<p>Pour cadrer les features qui devront être particulièrement prises en compte dans l'établissement du scoring nous reprenons ci-dessous les informations déduites des préconisations du Ministère:</p>\n",
    "<p>\n",
    "<table>\n",
    "    <tr>\n",
    "        <td align=\"center\" bgcolor=\"green\">Feature</td>\n",
    "        <td align=\"center\" bgcolor=\"green\">Impact</td>\n",
    "    </tr>\n",
    "    <tr>\n",
    "        <td>Apport calorique</td>\n",
    "        <td>Négatif</td>\n",
    "    </tr>\n",
    "    <tr>\n",
    "        <td>Sucre</td>\n",
    "        <td>Négatif</td>\n",
    "    </tr>\n",
    "    <tr>\n",
    "        <td>Graisses saturées</td>\n",
    "        <td>Négatif</td>\n",
    "    </tr>\n",
    "    <tr>\n",
    "        <td>Sel</td>\n",
    "        <td>Négatif</td>\n",
    "    </tr>\n",
    "    <tr>\n",
    "        <td>Fruits, légumes, légumineuses, fruits à coque et huiles de colza, de noix et d’olive</td>\n",
    "        <td>Positif</td>\n",
    "    </tr>\n",
    "    <tr>\n",
    "        <td>protéines</td>\n",
    "        <td>Positif</td>\n",
    "    </tr>\n",
    "    <tr>\n",
    "        <td>Fibres</td>\n",
    "        <td>Positif</td>\n",
    "    </tr>\n",
    "</table>\n",
    "</p>\n",
    "<p>A noter deux remarques importantes : </p>\n",
    "<p>&nbsp;&nbsp;&nbsp;&nbsp; - les fromages, bien qu'ils contiennent des graisses saturées et sont caloriques et salés, ne sont pas à écarter du fait de leur proportion importante de protéines et de calcium</p>\n",
    "<p>&nbsp;&nbsp;&nbsp;&nbsp; - la teneur en fruit et légumes ne doit pas tenir compte des féculents</p>\n",
    "\n",
    "Fonctionnellement, l'application consiste à permettre la saisie des informations relatives au repas évalué (apéro, entrée, plat, fromage/laitage, dessert) et vise à détecter des composantes de faible score nutritionnel et pour ces composantes à indiquer des alternatives qui offriraient un meilleur score nutritionnel global. L'application peut mettre en vis-à-vis un graphique radar du repas et de celui corrigé par ces alternatives. L'idée de l'application est de mettre en valeur les alternatives pour que l'utilisateur apprenne et puisse au fur et à mesure faire évoluer ses habitudes. Ayant une base de connaissance, lors de ses futurs achats en vue de préparer un repas il pourra alors mieux se diriger vers ces alternatives."
   ]
  },
  {
   "cell_type": "code",
   "execution_count": null,
   "metadata": {},
   "outputs": [],
   "source": []
  }
 ],
 "metadata": {
  "kernelspec": {
   "display_name": "Python 3",
   "language": "python",
   "name": "python3"
  },
  "language_info": {
   "codemirror_mode": {
    "name": "ipython",
    "version": 3
   },
   "file_extension": ".py",
   "mimetype": "text/x-python",
   "name": "python",
   "nbconvert_exporter": "python",
   "pygments_lexer": "ipython3",
   "version": "3.8.5"
  }
 },
 "nbformat": 4,
 "nbformat_minor": 4
}
